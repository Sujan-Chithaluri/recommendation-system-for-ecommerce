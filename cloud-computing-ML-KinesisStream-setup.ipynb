{
 "cells": [
  {
   "cell_type": "code",
   "execution_count": 18,
   "id": "173d7029-1394-47f3-a935-07b1d8633f84",
   "metadata": {
    "tags": []
   },
   "outputs": [],
   "source": [
    "import os\n",
    "import io\n",
    "import pandas as pd\n",
    "import numpy as np\n",
    "from helper import *\n",
    "import time\n",
    "from time import gmtime, strftime\n",
    "import boto3\n",
    "from scipy.sparse import hstack\n",
    "import sagemaker\n",
    "from sklearn.preprocessing import OneHotEncoder\n",
    "from sklearn.feature_extraction.text import TfidfVectorizer\n",
    "from sklearn.model_selection import train_test_split\n",
    "import sagemaker.amazon.common as smac\n",
    "from sagemaker.serializers import CSVSerializer\n",
    "from sagemaker.inputs import TrainingInput\n",
    "from sagemaker.deserializers import JSONDeserializer\n",
    "from sagemaker.lambda_helper import Lambda"
   ]
  },
  {
   "cell_type": "code",
   "execution_count": 19,
   "id": "810ec55d-3903-45d5-a98c-1a924974c4fc",
   "metadata": {
    "tags": []
   },
   "outputs": [
    {
     "name": "stdout",
     "output_type": "stream",
     "text": [
      "sagemaker.config INFO - Not applying SDK defaults from location: /etc/xdg/sagemaker/config.yaml\n",
      "sagemaker.config INFO - Not applying SDK defaults from location: /root/.config/sagemaker/config.yaml\n",
      "sagemaker.config INFO - Not applying SDK defaults from location: /etc/xdg/sagemaker/config.yaml\n",
      "sagemaker.config INFO - Not applying SDK defaults from location: /root/.config/sagemaker/config.yaml\n"
     ]
    }
   ],
   "source": [
    "role = sagemaker.get_execution_role()\n",
    "sagemaker_session = sagemaker.Session()\n",
    "default_bucket = sagemaker_session.default_bucket()\n",
    "region = sagemaker_session.boto_region_name\n",
    "s3_client = boto3.client('s3', region_name=region)"
   ]
  },
  {
   "cell_type": "code",
   "execution_count": 21,
   "id": "3f2c4b8a-5902-4256-b82e-08aa59b54e00",
   "metadata": {
    "tags": []
   },
   "outputs": [],
   "source": [
    "prefix = 'clickstreamrec-feature-store'\n",
    "\n",
    "# Feature Store variables\n",
    "fs_prefix = 'clickstreamrec-'\n",
    "current_timestamp = strftime('%m-%d-%H-%M', gmtime())\n",
    "customers_feature_group_name = f'{fs_prefix}customers-fg-{current_timestamp}'\n",
    "products_feature_group_name = f'{fs_prefix}products-fg-{current_timestamp}'\n",
    "orders_feature_group_name = f'{fs_prefix}orders-fg-{current_timestamp}'\n",
    "click_stream_historical_feature_group_name = f'{fs_prefix}click-stream-historical-fg-{current_timestamp}'\n",
    "click_stream_feature_group_name = f'{fs_prefix}click-stream-fg-{current_timestamp}'"
   ]
  },
  {
   "cell_type": "code",
   "execution_count": 22,
   "id": "ead9795f-0243-4961-9ee6-ab87fa254b69",
   "metadata": {
    "tags": []
   },
   "outputs": [],
   "source": [
    "df_customers = pd.read_csv('customers.csv')\n",
    "df_products = pd.read_csv('products.csv')\n",
    "df_orders = pd.read_csv('orders.csv')\n",
    "df_click_stream_historical = pd.read_csv('click_stream_historical.csv')\n",
    "df_click_stream = pd.read_csv('click_stream.csv')"
   ]
  },
  {
   "cell_type": "code",
   "execution_count": 23,
   "id": "0fe66698-cb49-4733-aa8d-c29b8cb129a6",
   "metadata": {
    "tags": []
   },
   "outputs": [
    {
     "name": "stdout",
     "output_type": "stream",
     "text": [
      "Feature groups names:\n",
      "\n",
      "clickstreamrec-customers-fg-12-07-00-51\n",
      "clickstreamrec-products-fg-12-07-00-51\n",
      "clickstreamrec-orders-fg-12-07-00-51\n",
      "clickstreamrec-click-stream-historical-fg-12-07-00-51\n",
      "clickstreamrec-click-stream-fg-12-07-00-51\n"
     ]
    }
   ],
   "source": [
    "print('Feature groups names:')\n",
    "print(customers_feature_group_name)\n",
    "print(products_feature_group_name)\n",
    "print(orders_feature_group_name)\n",
    "print(click_stream_historical_feature_group_name)\n",
    "print(click_stream_feature_group_name)"
   ]
  },
  {
   "cell_type": "code",
   "execution_count": 24,
   "id": "97b48d7f-2d49-4baa-b51a-51eba81ad52b",
   "metadata": {},
   "outputs": [
    {
     "name": "stdout",
     "output_type": "stream",
     "text": [
      "sagemaker.config INFO - Not applying SDK defaults from location: /etc/xdg/sagemaker/config.yaml\n",
      "sagemaker.config INFO - Not applying SDK defaults from location: /root/.config/sagemaker/config.yaml\n",
      "Initial status: Creating\n",
      "Waiting for feature group: clickstreamrec-customers-fg-12-07-00-51 to be created ...\n",
      "Waiting for feature group: clickstreamrec-customers-fg-12-07-00-51 to be created ...\n",
      "Waiting for feature group: clickstreamrec-customers-fg-12-07-00-51 to be created ...\n",
      "Waiting for feature group: clickstreamrec-customers-fg-12-07-00-51 to be created ...\n",
      "FeatureGroup clickstreamrec-customers-fg-12-07-00-51 was successfully created.\n",
      "sagemaker.config INFO - Not applying SDK defaults from location: /etc/xdg/sagemaker/config.yaml\n",
      "sagemaker.config INFO - Not applying SDK defaults from location: /root/.config/sagemaker/config.yaml\n",
      "Initial status: Creating\n",
      "Waiting for feature group: clickstreamrec-products-fg-12-07-00-51 to be created ...\n",
      "Waiting for feature group: clickstreamrec-products-fg-12-07-00-51 to be created ...\n",
      "Waiting for feature group: clickstreamrec-products-fg-12-07-00-51 to be created ...\n",
      "Waiting for feature group: clickstreamrec-products-fg-12-07-00-51 to be created ...\n",
      "FeatureGroup clickstreamrec-products-fg-12-07-00-51 was successfully created.\n",
      "sagemaker.config INFO - Not applying SDK defaults from location: /etc/xdg/sagemaker/config.yaml\n",
      "sagemaker.config INFO - Not applying SDK defaults from location: /root/.config/sagemaker/config.yaml\n",
      "Initial status: Creating\n",
      "Waiting for feature group: clickstreamrec-orders-fg-12-07-00-51 to be created ...\n",
      "Waiting for feature group: clickstreamrec-orders-fg-12-07-00-51 to be created ...\n",
      "Waiting for feature group: clickstreamrec-orders-fg-12-07-00-51 to be created ...\n",
      "Waiting for feature group: clickstreamrec-orders-fg-12-07-00-51 to be created ...\n",
      "Waiting for feature group: clickstreamrec-orders-fg-12-07-00-51 to be created ...\n",
      "Waiting for feature group: clickstreamrec-orders-fg-12-07-00-51 to be created ...\n",
      "Waiting for feature group: clickstreamrec-orders-fg-12-07-00-51 to be created ...\n",
      "Waiting for feature group: clickstreamrec-orders-fg-12-07-00-51 to be created ...\n",
      "Waiting for feature group: clickstreamrec-orders-fg-12-07-00-51 to be created ...\n",
      "Waiting for feature group: clickstreamrec-orders-fg-12-07-00-51 to be created ...\n",
      "Waiting for feature group: clickstreamrec-orders-fg-12-07-00-51 to be created ...\n",
      "FeatureGroup clickstreamrec-orders-fg-12-07-00-51 was successfully created.\n",
      "sagemaker.config INFO - Not applying SDK defaults from location: /etc/xdg/sagemaker/config.yaml\n",
      "sagemaker.config INFO - Not applying SDK defaults from location: /root/.config/sagemaker/config.yaml\n",
      "Initial status: Creating\n",
      "Waiting for feature group: clickstreamrec-click-stream-historical-fg-12-07-00-51 to be created ...\n",
      "Waiting for feature group: clickstreamrec-click-stream-historical-fg-12-07-00-51 to be created ...\n",
      "Waiting for feature group: clickstreamrec-click-stream-historical-fg-12-07-00-51 to be created ...\n",
      "Waiting for feature group: clickstreamrec-click-stream-historical-fg-12-07-00-51 to be created ...\n",
      "Waiting for feature group: clickstreamrec-click-stream-historical-fg-12-07-00-51 to be created ...\n",
      "Waiting for feature group: clickstreamrec-click-stream-historical-fg-12-07-00-51 to be created ...\n",
      "Waiting for feature group: clickstreamrec-click-stream-historical-fg-12-07-00-51 to be created ...\n",
      "Waiting for feature group: clickstreamrec-click-stream-historical-fg-12-07-00-51 to be created ...\n",
      "Waiting for feature group: clickstreamrec-click-stream-historical-fg-12-07-00-51 to be created ...\n",
      "Waiting for feature group: clickstreamrec-click-stream-historical-fg-12-07-00-51 to be created ...\n",
      "Waiting for feature group: clickstreamrec-click-stream-historical-fg-12-07-00-51 to be created ...\n",
      "FeatureGroup clickstreamrec-click-stream-historical-fg-12-07-00-51 was successfully created.\n",
      "sagemaker.config INFO - Not applying SDK defaults from location: /etc/xdg/sagemaker/config.yaml\n",
      "sagemaker.config INFO - Not applying SDK defaults from location: /root/.config/sagemaker/config.yaml\n",
      "Initial status: Creating\n",
      "Waiting for feature group: clickstreamrec-click-stream-fg-12-07-00-51 to be created ...\n",
      "Waiting for feature group: clickstreamrec-click-stream-fg-12-07-00-51 to be created ...\n",
      "Waiting for feature group: clickstreamrec-click-stream-fg-12-07-00-51 to be created ...\n",
      "Waiting for feature group: clickstreamrec-click-stream-fg-12-07-00-51 to be created ...\n",
      "FeatureGroup clickstreamrec-click-stream-fg-12-07-00-51 was successfully created.\n"
     ]
    }
   ],
   "source": [
    "customers_feature_group = create_feature_group(df_customers, customers_feature_group_name,\n",
    "                                               'customer_id', prefix, sagemaker_session)\n",
    "products_feature_group = create_feature_group(df_products, products_feature_group_name, 'product_id',\n",
    "                                              prefix, sagemaker_session)\n",
    "orders_feature_group = create_feature_group(df_orders, orders_feature_group_name, 'order_id', prefix,\n",
    "                                            sagemaker_session)\n",
    "click_stream_historical_feature_group = create_feature_group(df_click_stream_historical,\n",
    "                                                             click_stream_historical_feature_group_name,\n",
    "                                                             'click_stream_id', prefix, sagemaker_session)\n",
    "click_stream_feature_group = create_feature_group(df_click_stream, click_stream_feature_group_name, 'customer_id',\n",
    "                                                  prefix, sagemaker_session)"
   ]
  },
  {
   "cell_type": "code",
   "execution_count": 25,
   "id": "e48d8379-9e32-4f02-b559-bb131608c058",
   "metadata": {
    "tags": []
   },
   "outputs": [],
   "source": [
    "customers_table = customers_feature_group.athena_query().table_name\n",
    "products_table = products_feature_group.athena_query().table_name\n",
    "orders_table = orders_feature_group.athena_query().table_name\n",
    "click_stream_historical_table = click_stream_historical_feature_group.athena_query().table_name\n",
    "click_stream_table = click_stream_feature_group.athena_query().table_name"
   ]
  },
  {
   "cell_type": "code",
   "execution_count": 31,
   "id": "5d347e70-4a25-48cb-88c5-43061108cdb1",
   "metadata": {
    "tags": []
   },
   "outputs": [],
   "source": [
    "def ingest_into_feature_group(df, feature_group):\n",
    "\n",
    "    print(f\"Ingesting data into feature group: {feature_group.name}\")\n",
    "    try:\n",
    "        ingestion_manager = feature_group.ingest(\n",
    "            data_frame=df, max_workers=5, wait=True\n",
    "        )\n",
    "    except Exception as e:\n",
    "        print(e)\n",
    "        failed_rows = ingestion_manager.failed_rows()\n",
    "        num_failed_rows = len(failed_rows)\n",
    "        print(f\"Num failed rows: {num_failed_rows}\")\n",
    "        print(f\"Failed rows: {failed_rows}\")\n",
    "    print(f\"{len(df)} records ingested into feature group: {feature_group.name}\")"
   ]
  },
  {
   "cell_type": "code",
   "execution_count": 30,
   "id": "c89a327d-e7a2-45af-a09d-3db0d4fdba28",
   "metadata": {
    "tags": []
   },
   "outputs": [
    {
     "name": "stdout",
     "output_type": "stream",
     "text": [
      "Ingesting data into feature group: clickstreamrec-customers-fg-12-07-00-51...\n",
      "Waiting for ingestion to complete {'FeatureGroupArn': 'arn:aws:sagemaker:us-east-1:205825199765:feature-group/clickstreamrec-customers-fg-12-07-00-51', 'FeatureGroupName': 'clickstreamrec-customers-fg-12-07-00-51', 'RecordIdentifierFeatureName': 'customer_id', 'EventTimeFeatureName': 'event_time', 'FeatureDefinitions': [{'FeatureName': 'customer_id', 'FeatureType': 'String'}, {'FeatureName': 'name', 'FeatureType': 'String'}, {'FeatureName': 'state', 'FeatureType': 'String'}, {'FeatureName': 'age', 'FeatureType': 'Integral'}, {'FeatureName': 'is_married', 'FeatureType': 'Integral'}, {'FeatureName': 'customer_health_index', 'FeatureType': 'Fractional'}, {'FeatureName': 'event_time', 'FeatureType': 'Fractional'}], 'CreationTime': datetime.datetime(2023, 12, 7, 0, 51, 50, 868000, tzinfo=tzlocal()), 'OnlineStoreConfig': {'EnableOnlineStore': True}, 'OfflineStoreConfig': {'S3StorageConfig': {'S3Uri': 's3://sagemaker-us-east-1-205825199765/clickstreamrec-feature-store', 'ResolvedOutputS3Uri': 's3://sagemaker-us-east-1-205825199765/clickstreamrec-feature-store/205825199765/sagemaker/us-east-1/offline-store/clickstreamrec-customers-fg-12-07-00-51-1701910310/data'}, 'DisableGlueTableCreation': False, 'DataCatalogConfig': {'TableName': 'clickstreamrec_customers_fg_12_07_00_51_1701910310', 'Catalog': 'AwsDataCatalog', 'Database': 'sagemaker_featurestore'}}, 'RoleArn': 'arn:aws:iam::205825199765:role/service-role/AmazonSageMaker-ExecutionRole-20230914T164936', 'FeatureGroupStatus': 'Created', 'OfflineStoreStatus': {'Status': 'Active'}, 'OnlineStoreTotalSizeBytes': 0, 'ResponseMetadata': {'RequestId': '7c7b35b0-8f93-4e8d-8303-9a780eacd9f4', 'HTTPStatusCode': 200, 'HTTPHeaders': {'x-amzn-requestid': '7c7b35b0-8f93-4e8d-8303-9a780eacd9f4', 'content-type': 'application/x-amz-json-1.1', 'content-length': '1974', 'date': 'Thu, 07 Dec 2023 01:01:40 GMT'}, 'RetryAttempts': 0}}\n",
      "10000 records ingested into feature group: clickstreamrec-customers-fg-12-07-00-51\n"
     ]
    }
   ],
   "source": [
    "ingest_into_feature_group(df_customers, customers_feature_group)"
   ]
  },
  {
   "cell_type": "code",
   "execution_count": 32,
   "id": "8324e10c-48e3-41fb-917a-940d3b316d1c",
   "metadata": {
    "tags": []
   },
   "outputs": [
    {
     "name": "stdout",
     "output_type": "stream",
     "text": [
      "Ingesting data into feature group: clickstreamrec-products-fg-12-07-00-51...\n",
      "17001 records ingested into feature group: clickstreamrec-products-fg-12-07-00-51\n",
      "Ingesting data into feature group: clickstreamrec-orders-fg-12-07-00-51...\n",
      "99975 records ingested into feature group: clickstreamrec-orders-fg-12-07-00-51\n",
      "Ingesting data into feature group: clickstreamrec-click-stream-historical-fg-12-07-00-51...\n",
      "199950 records ingested into feature group: clickstreamrec-click-stream-historical-fg-12-07-00-51\n"
     ]
    }
   ],
   "source": [
    "ingest_into_feature_group(df_products, products_feature_group)\n",
    "ingest_into_feature_group(df_orders, orders_feature_group)\n",
    "ingest_into_feature_group(df_click_stream_historical, click_stream_historical_feature_group)"
   ]
  },
  {
   "cell_type": "code",
   "execution_count": 36,
   "id": "acc58ca5-d65f-473f-939b-b612b220f7b0",
   "metadata": {
    "tags": []
   },
   "outputs": [],
   "source": [
    "featurestore_runtime = boto3.client(service_name='sagemaker-featurestore-runtime',\n",
    "                                    region_name=region)"
   ]
  },
  {
   "cell_type": "code",
   "execution_count": 37,
   "id": "a82780b3-ea1b-430b-a354-c6238c57cb2b",
   "metadata": {
    "tags": []
   },
   "outputs": [],
   "source": [
    "prefix = 'clickstreamrec'\n",
    "train_key = 'train.protobuf'\n",
    "train_prefix = f'{prefix}/train'\n",
    "test_key = 'test.protobuf'\n",
    "test_prefix = f'{prefix}/test'\n",
    "output_prefix = f's3://{default_bucket}/{prefix}/output'\n",
    "\n",
    "current_timestamp = strftime('%m-%d-%H-%M', gmtime())\n",
    "query_results= 'sagemaker-clickstreamrec-featurestore'\n",
    "prefix = 'clickstreamrec-feature-store'\n",
    "cf_model_endpoint_name = f'clickstreamrec-collabfilter-model-{current_timestamp}'\n",
    "ranking_model_endpoint_name = f'clickstreamrec-ranking-model-{current_timestamp}'"
   ]
  },
  {
   "cell_type": "code",
   "execution_count": 40,
   "id": "2fdddf27-3745-44f2-ac68-f4dea5f54d17",
   "metadata": {
    "tags": []
   },
   "outputs": [
    {
     "data": {
      "text/html": [
       "<div>\n",
       "<style scoped>\n",
       "    .dataframe tbody tr th:only-of-type {\n",
       "        vertical-align: middle;\n",
       "    }\n",
       "\n",
       "    .dataframe tbody tr th {\n",
       "        vertical-align: top;\n",
       "    }\n",
       "\n",
       "    .dataframe thead th {\n",
       "        text-align: right;\n",
       "    }\n",
       "</style>\n",
       "<table border=\"1\" class=\"dataframe\">\n",
       "  <thead>\n",
       "    <tr style=\"text-align: right;\">\n",
       "      <th></th>\n",
       "      <th>customer_id</th>\n",
       "      <th>product_id</th>\n",
       "      <th>rating</th>\n",
       "      <th>state</th>\n",
       "      <th>age</th>\n",
       "      <th>is_married</th>\n",
       "      <th>product_name</th>\n",
       "    </tr>\n",
       "  </thead>\n",
       "  <tbody>\n",
       "    <tr>\n",
       "      <th>0</th>\n",
       "      <td>C7067</td>\n",
       "      <td>P3590</td>\n",
       "      <td>2.311836</td>\n",
       "      <td>new hampshire</td>\n",
       "      <td>34</td>\n",
       "      <td>0</td>\n",
       "      <td>low fat madagascar vanilla kefir probiotic cul...</td>\n",
       "    </tr>\n",
       "    <tr>\n",
       "      <th>1</th>\n",
       "      <td>C7067</td>\n",
       "      <td>P3590</td>\n",
       "      <td>2.311836</td>\n",
       "      <td>new hampshire</td>\n",
       "      <td>34</td>\n",
       "      <td>0</td>\n",
       "      <td>low fat madagascar vanilla kefir probiotic cul...</td>\n",
       "    </tr>\n",
       "    <tr>\n",
       "      <th>2</th>\n",
       "      <td>C1290</td>\n",
       "      <td>P10763</td>\n",
       "      <td>1.198205</td>\n",
       "      <td>missouri</td>\n",
       "      <td>43</td>\n",
       "      <td>0</td>\n",
       "      <td>turkey lasagna</td>\n",
       "    </tr>\n",
       "    <tr>\n",
       "      <th>3</th>\n",
       "      <td>C1290</td>\n",
       "      <td>P10763</td>\n",
       "      <td>1.198205</td>\n",
       "      <td>missouri</td>\n",
       "      <td>43</td>\n",
       "      <td>0</td>\n",
       "      <td>turkey lasagna</td>\n",
       "    </tr>\n",
       "    <tr>\n",
       "      <th>4</th>\n",
       "      <td>C7166</td>\n",
       "      <td>P14034</td>\n",
       "      <td>2.151193</td>\n",
       "      <td>kansas</td>\n",
       "      <td>77</td>\n",
       "      <td>0</td>\n",
       "      <td>organic ginger root powder</td>\n",
       "    </tr>\n",
       "  </tbody>\n",
       "</table>\n",
       "</div>"
      ],
      "text/plain": [
       "  customer_id product_id    rating          state  age  is_married  \\\n",
       "0       C7067      P3590  2.311836  new hampshire   34           0   \n",
       "1       C7067      P3590  2.311836  new hampshire   34           0   \n",
       "2       C1290     P10763  1.198205       missouri   43           0   \n",
       "3       C1290     P10763  1.198205       missouri   43           0   \n",
       "4       C7166     P14034  2.151193         kansas   77           0   \n",
       "\n",
       "                                        product_name  \n",
       "0  low fat madagascar vanilla kefir probiotic cul...  \n",
       "1  low fat madagascar vanilla kefir probiotic cul...  \n",
       "2                                     turkey lasagna  \n",
       "3                                     turkey lasagna  \n",
       "4                         organic ginger root powder  "
      ]
     },
     "execution_count": 40,
     "metadata": {},
     "output_type": "execute_result"
    }
   ],
   "source": [
    "query = f'''\n",
    "select click_stream_customers.customer_id,\n",
    "       products.product_id,\n",
    "       rating,\n",
    "       state,\n",
    "       age,\n",
    "       is_married,\n",
    "       product_name\n",
    "from (\n",
    "    select c.customer_id,\n",
    "           cs.product_id,\n",
    "           cs.bought,\n",
    "           cs.rating,\n",
    "           c.state,\n",
    "           c.age,\n",
    "           c.is_married\n",
    "    from \"{click_stream_historical_table}\" as cs\n",
    "    left join \"{customers_table}\" as c\n",
    "    on cs.customer_id = c.customer_id\n",
    ") click_stream_customers\n",
    "left join\n",
    "(select * from \"{products_table}\") products\n",
    "on click_stream_customers.product_id = products.product_id\n",
    "where click_stream_customers.bought = 1\n",
    "'''\n",
    "\n",
    "df_cf_features, query = query_offline_store(click_stream_feature_group_name, query,\n",
    "                                            sagemaker_session)\n",
    "df_cf_features.head()"
   ]
  },
  {
   "cell_type": "code",
   "execution_count": 41,
   "id": "d1381729-9f7f-47e8-ae50-4502ff1ea54d",
   "metadata": {
    "tags": []
   },
   "outputs": [],
   "source": [
    "def transform_cf_data(training_df, inference_df=None):\n",
    "    enc = OneHotEncoder(handle_unknown='ignore')\n",
    "    vectorizer = TfidfVectorizer(min_df=2)\n",
    "    \n",
    "    onehot_cols = ['product_id', 'customer_id', 'is_married',\n",
    "                   'state']\n",
    "    \n",
    "    if inference_df is not None:\n",
    "        enc.fit(training_df[onehot_cols])\n",
    "        onehot_output = enc.transform(inference_df[onehot_cols])\n",
    "        unique_descriptions = training_df['product_name'].unique()\n",
    "        vectorizer.fit(unique_descriptions)\n",
    "        tfidf_output = vectorizer.transform(inference_df['product_name'])\n",
    "    else:\n",
    "        onehot_output = enc.fit_transform(training_df[onehot_cols])\n",
    "        unique_descriptions = training_df['product_name'].unique()\n",
    "        vectorizer.fit(unique_descriptions)\n",
    "        tfidf_output = vectorizer.transform(training_df['product_name'])\n",
    "    \n",
    "    X = hstack([onehot_output, tfidf_output], format='csr', dtype='float32')\n",
    "    return X\n",
    "    \n",
    "def load_dataset(df):\n",
    "    X = transform_cf_data(df)\n",
    "    y = df['rating'].values.astype('float32')\n",
    "    return X, y\n",
    "X, y = load_dataset(df_cf_features)"
   ]
  },
  {
   "cell_type": "code",
   "execution_count": 42,
   "id": "abea071e-37fc-44a1-b274-a52049403e07",
   "metadata": {
    "tags": []
   },
   "outputs": [],
   "source": [
    "X_train, X_test, y_train, y_test = train_test_split(X, y, test_size=0.2, random_state=42)"
   ]
  },
  {
   "cell_type": "code",
   "execution_count": 1,
   "id": "e309a35d-7929-4d5b-88fe-08b238d1a5eb",
   "metadata": {
    "tags": []
   },
   "outputs": [],
   "source": [
    "def write_data_to_protobuf(X, y, bucket, prefix, key):\n",
    "    buf = io.BytesIO()\n",
    "    smac.write_spmatrix_to_sparse_tensor(buf, X, y)\n",
    "    buf.seek(0)\n",
    "    obj = \"{}/{}\".format(prefix, key)\n",
    "    boto3.resource(\"s3\").Bucket(bucket).Object(obj).upload_fileobj(buf)\n",
    "    return \"s3://{}/{}\".format(bucket, obj)\n",
    "\n",
    "train_data_location = write_data_to_protobuf(X_train, y_train, default_bucket, train_prefix, train_key)\n",
    "test_data_location = write_data_to_protobuf(X_test, y_test, default_bucket, test_prefix, test_key)"
   ]
  },
  {
   "cell_type": "code",
   "execution_count": 45,
   "id": "ed5bd7a7-d61d-4860-873e-11b28bcde851",
   "metadata": {
    "tags": []
   },
   "outputs": [],
   "source": [
    "container = sagemaker.image_uris.retrieve(\"factorization-machines\", region=region)\n",
    "\n",
    "fm = sagemaker.estimator.Estimator(\n",
    "    container,\n",
    "    role,\n",
    "    instance_count=1,\n",
    "    instance_type=\"ml.c5.xlarge\",\n",
    "    output_path=output_prefix,\n",
    "    sagemaker_session=sagemaker_session,\n",
    ")\n",
    "\n",
    "input_dims = X_train.shape[1]\n",
    "fm.set_hyperparameters(\n",
    "    feature_dim=input_dims,\n",
    "    predictor_type=\"regressor\",\n",
    "    mini_batch_size=1000,\n",
    "    num_factors=64,\n",
    "    epochs=20,\n",
    ")"
   ]
  },
  {
   "cell_type": "code",
   "execution_count": 46,
   "id": "6ecdf7e3-4764-403c-a953-ca1eed4f482d",
   "metadata": {
    "tags": []
   },
   "outputs": [
    {
     "name": "stderr",
     "output_type": "stream",
     "text": [
      "INFO:sagemaker:Creating training-job with name: factorization-machines-2023-12-07-01-22-07-573\n"
     ]
    },
    {
     "name": "stdout",
     "output_type": "stream",
     "text": [
      "2023-12-07 01:22:07 Starting - Starting the training job...\n",
      "2023-12-07 01:22:22 Starting - Preparing the instances for training.........\n",
      "2023-12-07 01:23:40 Downloading - Downloading input data...\n",
      "2023-12-07 01:24:10 Training - Downloading the training image....................\u001b[34mDocker entrypoint called with argument(s): train\u001b[0m\n",
      "\u001b[34mRunning default environment configuration script\u001b[0m\n",
      "\u001b[34m/opt/amazon/lib/python3.8/site-packages/mxnet/model.py:97: SyntaxWarning: \"is\" with a literal. Did you mean \"==\"?\n",
      "  if num_device is 1 and 'dist' not in kvstore:\u001b[0m\n",
      "\u001b[34m[12/07/2023 01:27:47 INFO 139744468858688] Reading default configuration from /opt/amazon/lib/python3.8/site-packages/algorithm/resources/default-conf.json: {'epochs': 1, 'mini_batch_size': '1000', 'use_bias': 'true', 'use_linear': 'true', 'bias_lr': '0.1', 'linear_lr': '0.001', 'factors_lr': '0.0001', 'bias_wd': '0.01', 'linear_wd': '0.001', 'factors_wd': '0.00001', 'bias_init_method': 'normal', 'bias_init_sigma': '0.01', 'linear_init_method': 'normal', 'linear_init_sigma': '0.01', 'factors_init_method': 'normal', 'factors_init_sigma': '0.001', 'batch_metrics_publish_interval': '500', '_data_format': 'record', '_kvstore': 'auto', '_learning_rate': '1.0', '_log_level': 'info', '_num_gpus': 'auto', '_num_kv_servers': 'auto', '_optimizer': 'adam', '_tuning_objective_metric': '', '_use_full_symbolic': 'true', '_wd': '1.0'}\u001b[0m\n",
      "\u001b[34m[12/07/2023 01:27:47 INFO 139744468858688] Merging with provided configuration from /opt/ml/input/config/hyperparameters.json: {'epochs': '20', 'feature_dim': '30168', 'mini_batch_size': '1000', 'num_factors': '64', 'predictor_type': 'regressor'}\u001b[0m\n",
      "\u001b[34m[12/07/2023 01:27:47 INFO 139744468858688] Final configuration: {'epochs': '20', 'mini_batch_size': '1000', 'use_bias': 'true', 'use_linear': 'true', 'bias_lr': '0.1', 'linear_lr': '0.001', 'factors_lr': '0.0001', 'bias_wd': '0.01', 'linear_wd': '0.001', 'factors_wd': '0.00001', 'bias_init_method': 'normal', 'bias_init_sigma': '0.01', 'linear_init_method': 'normal', 'linear_init_sigma': '0.01', 'factors_init_method': 'normal', 'factors_init_sigma': '0.001', 'batch_metrics_publish_interval': '500', '_data_format': 'record', '_kvstore': 'auto', '_learning_rate': '1.0', '_log_level': 'info', '_num_gpus': 'auto', '_num_kv_servers': 'auto', '_optimizer': 'adam', '_tuning_objective_metric': '', '_use_full_symbolic': 'true', '_wd': '1.0', 'feature_dim': '30168', 'num_factors': '64', 'predictor_type': 'regressor'}\u001b[0m\n",
      "\u001b[34m[12/07/2023 01:27:47 WARNING 139744468858688] Loggers have already been setup.\u001b[0m\n",
      "\u001b[34mProcess 7 is a worker.\u001b[0m\n",
      "\u001b[34m[12/07/2023 01:27:47 INFO 139744468858688] Using default worker.\u001b[0m\n",
      "\u001b[34m[12/07/2023 01:27:47 INFO 139744468858688] Checkpoint loading and saving are disabled.\u001b[0m\n",
      "\u001b[34m[2023-12-07 01:27:47.179] [tensorio] [warning] TensorIO is already initialized; ignoring the initialization routine.\u001b[0m\n",
      "\u001b[34m[2023-12-07 01:27:47.185] [tensorio] [info] epoch_stats={\"data_pipeline\": \"/opt/ml/input/data/train\", \"epoch\": 0, \"duration\": 10, \"num_examples\": 1, \"num_bytes\": 112436}\u001b[0m\n",
      "\u001b[34m/opt/amazon/python3.8/lib/python3.8/subprocess.py:848: RuntimeWarning: line buffering (buffering=1) isn't supported in binary mode, the default buffer size will be used\n",
      "  self.stdout = io.open(c2pread, 'rb', bufsize)\u001b[0m\n",
      "\u001b[34m[12/07/2023 01:27:47 INFO 139744468858688] nvidia-smi: took 0.031 seconds to run.\u001b[0m\n",
      "\u001b[34m[12/07/2023 01:27:47 INFO 139744468858688] nvidia-smi identified 0 GPUs.\u001b[0m\n",
      "\u001b[34m[12/07/2023 01:27:47 INFO 139744468858688] Number of GPUs being used: 0\u001b[0m\n",
      "\u001b[34m[12/07/2023 01:27:47 INFO 139744468858688] [Sparse network] Building a sparse network.\u001b[0m\n",
      "\u001b[34m[12/07/2023 01:27:47 INFO 139744468858688] Create Store: local\u001b[0m\n",
      "\u001b[34m#metrics {\"StartTime\": 1701912467.1745296, \"EndTime\": 1701912467.2201033, \"Dimensions\": {\"Algorithm\": \"factorization-machines\", \"Host\": \"algo-1\", \"Operation\": \"training\"}, \"Metrics\": {\"initialize.time\": {\"sum\": 37.23430633544922, \"count\": 1, \"min\": 37.23430633544922, \"max\": 37.23430633544922}}}\u001b[0m\n",
      "\u001b[34m#metrics {\"StartTime\": 1701912467.2202282, \"EndTime\": 1701912467.2202702, \"Dimensions\": {\"Algorithm\": \"factorization-machines\", \"Host\": \"algo-1\", \"Operation\": \"training\", \"Meta\": \"init_train_data_iter\"}, \"Metrics\": {\"Total Records Seen\": {\"sum\": 1000.0, \"count\": 1, \"min\": 1000, \"max\": 1000}, \"Total Batches Seen\": {\"sum\": 1.0, \"count\": 1, \"min\": 1, \"max\": 1}, \"Max Records Seen Between Resets\": {\"sum\": 1000.0, \"count\": 1, \"min\": 1000, \"max\": 1000}, \"Max Batches Seen Between Resets\": {\"sum\": 1.0, \"count\": 1, \"min\": 1, \"max\": 1}, \"Reset Count\": {\"sum\": 1.0, \"count\": 1, \"min\": 1, \"max\": 1}, \"Number of Records Since Last Reset\": {\"sum\": 0.0, \"count\": 1, \"min\": 0, \"max\": 0}, \"Number of Batches Since Last Reset\": {\"sum\": 0.0, \"count\": 1, \"min\": 0, \"max\": 0}}}\u001b[0m\n",
      "\u001b[34m[01:27:47] /opt/brazil-pkg-cache/packages/AIAlgorithmsMXNet/AIAlgorithmsMXNet-1.3.x_Cuda_11.1.x.363.0/AL2_x86_64/generic-flavor/src/src/kvstore/./kvstore_local.h:306: Warning: non-default weights detected during kvstore pull. This call has been ignored. Please make sure to use kv.row_sparse_pull() or module.prepare() with row_ids.\u001b[0m\n",
      "\u001b[34m[01:27:47] /opt/brazil-pkg-cache/packages/AIAlgorithmsMXNet/AIAlgorithmsMXNet-1.3.x_Cuda_11.1.x.363.0/AL2_x86_64/generic-flavor/src/src/kvstore/./kvstore_local.h:306: Warning: non-default weights detected during kvstore pull. This call has been ignored. Please make sure to use kv.row_sparse_pull() or module.prepare() with row_ids.\u001b[0m\n",
      "\u001b[34m[01:27:47] /opt/brazil-pkg-cache/packages/AIAlgorithmsMXNet/AIAlgorithmsMXNet-1.3.x_Cuda_11.1.x.363.0/AL2_x86_64/generic-flavor/src/src/operator/././../common/utils.h:450: Optimizer with lazy_update = True detected. Be aware that lazy update with row_sparse gradient is different from standard update, and may lead to different empirical results. See https://mxnet.incubator.apache.org/api/python/optimization/optimization.html for more details.\u001b[0m\n",
      "\u001b[34m[12/07/2023 01:27:47 INFO 139744468858688] #quality_metric: host=algo-1, epoch=0, batch=0 train rmse <loss>=2.312864202739214\u001b[0m\n",
      "\u001b[34m[12/07/2023 01:27:47 INFO 139744468858688] #quality_metric: host=algo-1, epoch=0, batch=0 train mse <loss>=5.3493408203125\u001b[0m\n",
      "\u001b[34m[12/07/2023 01:27:47 INFO 139744468858688] #quality_metric: host=algo-1, epoch=0, batch=0 train absolute_loss <loss>=2.203053466796875\u001b[0m\n",
      "\u001b[34m[2023-12-07 01:27:49.027] [tensorio] [info] epoch_stats={\"data_pipeline\": \"/opt/ml/input/data/train\", \"epoch\": 2, \"duration\": 1706, \"num_examples\": 160, \"num_bytes\": 17922876}\u001b[0m\n",
      "\u001b[34m[12/07/2023 01:27:49 INFO 139744468858688] #quality_metric: host=algo-1, epoch=0, train rmse <loss>=0.8472855075386898\u001b[0m\n",
      "\u001b[34m[12/07/2023 01:27:49 INFO 139744468858688] #quality_metric: host=algo-1, epoch=0, train mse <loss>=0.7178927312850952\u001b[0m\n",
      "\u001b[34m[12/07/2023 01:27:49 INFO 139744468858688] #quality_metric: host=algo-1, epoch=0, train absolute_loss <loss>=0.687973159790039\u001b[0m\n",
      "\u001b[34m#metrics {\"StartTime\": 1701912467.2201738, \"EndTime\": 1701912469.0282514, \"Dimensions\": {\"Algorithm\": \"factorization-machines\", \"Host\": \"algo-1\", \"Operation\": \"training\"}, \"Metrics\": {\"epochs\": {\"sum\": 20.0, \"count\": 1, \"min\": 20, \"max\": 20}, \"update.time\": {\"sum\": 1807.7342510223389, \"count\": 1, \"min\": 1807.7342510223389, \"max\": 1807.7342510223389}}}\u001b[0m\n",
      "\u001b[34m[12/07/2023 01:27:49 INFO 139744468858688] #progress_metric: host=algo-1, completed 5.0 % of epochs\u001b[0m\n",
      "\u001b[34m#metrics {\"StartTime\": 1701912467.2204883, \"EndTime\": 1701912469.0284257, \"Dimensions\": {\"Algorithm\": \"factorization-machines\", \"Host\": \"algo-1\", \"Operation\": \"training\", \"epoch\": 0, \"Meta\": \"training_data_iter\"}, \"Metrics\": {\"Total Records Seen\": {\"sum\": 160960.0, \"count\": 1, \"min\": 160960, \"max\": 160960}, \"Total Batches Seen\": {\"sum\": 161.0, \"count\": 1, \"min\": 161, \"max\": 161}, \"Max Records Seen Between Resets\": {\"sum\": 159960.0, \"count\": 1, \"min\": 159960, \"max\": 159960}, \"Max Batches Seen Between Resets\": {\"sum\": 160.0, \"count\": 1, \"min\": 160, \"max\": 160}, \"Reset Count\": {\"sum\": 2.0, \"count\": 1, \"min\": 2, \"max\": 2}, \"Number of Records Since Last Reset\": {\"sum\": 159960.0, \"count\": 1, \"min\": 159960, \"max\": 159960}, \"Number of Batches Since Last Reset\": {\"sum\": 160.0, \"count\": 1, \"min\": 160, \"max\": 160}}}\u001b[0m\n",
      "\u001b[34m[12/07/2023 01:27:49 INFO 139744468858688] #throughput_metric: host=algo-1, train throughput=88473.01536170281 records/second\u001b[0m\n",
      "\u001b[34m[12/07/2023 01:27:49 INFO 139744468858688] #quality_metric: host=algo-1, epoch=1, batch=0 train rmse <loss>=0.7028401115560419\u001b[0m\n",
      "\u001b[34m[12/07/2023 01:27:49 INFO 139744468858688] #quality_metric: host=algo-1, epoch=1, batch=0 train mse <loss>=0.4939842224121094\u001b[0m\n",
      "\u001b[34m[12/07/2023 01:27:49 INFO 139744468858688] #quality_metric: host=algo-1, epoch=1, batch=0 train absolute_loss <loss>=0.612605712890625\u001b[0m\n",
      "\u001b[34m[2023-12-07 01:27:51.272] [tensorio] [info] epoch_stats={\"data_pipeline\": \"/opt/ml/input/data/train\", \"epoch\": 4, \"duration\": 2240, \"num_examples\": 160, \"num_bytes\": 17922876}\u001b[0m\n",
      "\u001b[34m[12/07/2023 01:27:51 INFO 139744468858688] #quality_metric: host=algo-1, epoch=1, train rmse <loss>=0.680818612940702\u001b[0m\n",
      "\u001b[34m[12/07/2023 01:27:51 INFO 139744468858688] #quality_metric: host=algo-1, epoch=1, train mse <loss>=0.4635139837265015\u001b[0m\n",
      "\u001b[34m[12/07/2023 01:27:51 INFO 139744468858688] #quality_metric: host=algo-1, epoch=1, train absolute_loss <loss>=0.5888432723999023\u001b[0m\n",
      "\u001b[34m#metrics {\"StartTime\": 1701912469.0283222, \"EndTime\": 1701912471.2734315, \"Dimensions\": {\"Algorithm\": \"factorization-machines\", \"Host\": \"algo-1\", \"Operation\": \"training\"}, \"Metrics\": {\"update.time\": {\"sum\": 2243.954658508301, \"count\": 1, \"min\": 2243.954658508301, \"max\": 2243.954658508301}}}\u001b[0m\n",
      "\u001b[34m[12/07/2023 01:27:51 INFO 139744468858688] #progress_metric: host=algo-1, completed 10.0 % of epochs\u001b[0m\n",
      "\u001b[34m#metrics {\"StartTime\": 1701912469.02945, \"EndTime\": 1701912471.2738445, \"Dimensions\": {\"Algorithm\": \"factorization-machines\", \"Host\": \"algo-1\", \"Operation\": \"training\", \"epoch\": 1, \"Meta\": \"training_data_iter\"}, \"Metrics\": {\"Total Records Seen\": {\"sum\": 320920.0, \"count\": 1, \"min\": 320920, \"max\": 320920}, \"Total Batches Seen\": {\"sum\": 321.0, \"count\": 1, \"min\": 321, \"max\": 321}, \"Max Records Seen Between Resets\": {\"sum\": 159960.0, \"count\": 1, \"min\": 159960, \"max\": 159960}, \"Max Batches Seen Between Resets\": {\"sum\": 160.0, \"count\": 1, \"min\": 160, \"max\": 160}, \"Reset Count\": {\"sum\": 3.0, \"count\": 1, \"min\": 3, \"max\": 3}, \"Number of Records Since Last Reset\": {\"sum\": 159960.0, \"count\": 1, \"min\": 159960, \"max\": 159960}, \"Number of Batches Since Last Reset\": {\"sum\": 160.0, \"count\": 1, \"min\": 160, \"max\": 160}}}\u001b[0m\n",
      "\u001b[34m[12/07/2023 01:27:51 INFO 139744468858688] #throughput_metric: host=algo-1, train throughput=71266.45526110978 records/second\u001b[0m\n",
      "\u001b[34m[12/07/2023 01:27:51 INFO 139744468858688] #quality_metric: host=algo-1, epoch=2, batch=0 train rmse <loss>=0.693515013341794\u001b[0m\n",
      "\u001b[34m[12/07/2023 01:27:51 INFO 139744468858688] #quality_metric: host=algo-1, epoch=2, batch=0 train mse <loss>=0.48096307373046876\u001b[0m\n",
      "\u001b[34m[12/07/2023 01:27:51 INFO 139744468858688] #quality_metric: host=algo-1, epoch=2, batch=0 train absolute_loss <loss>=0.6047474365234375\u001b[0m\n",
      "\u001b[34m[2023-12-07 01:27:52.926] [tensorio] [info] epoch_stats={\"data_pipeline\": \"/opt/ml/input/data/train\", \"epoch\": 6, \"duration\": 1648, \"num_examples\": 160, \"num_bytes\": 17922876}\u001b[0m\n",
      "\u001b[34m[12/07/2023 01:27:52 INFO 139744468858688] #quality_metric: host=algo-1, epoch=2, train rmse <loss>=0.6666907949690746\u001b[0m\n",
      "\u001b[34m[12/07/2023 01:27:52 INFO 139744468858688] #quality_metric: host=algo-1, epoch=2, train mse <loss>=0.4444766160964966\u001b[0m\n",
      "\u001b[34m[12/07/2023 01:27:52 INFO 139744468858688] #quality_metric: host=algo-1, epoch=2, train absolute_loss <loss>=0.5755676979064941\u001b[0m\n",
      "\u001b[34m#metrics {\"StartTime\": 1701912471.27363, \"EndTime\": 1701912472.926798, \"Dimensions\": {\"Algorithm\": \"factorization-machines\", \"Host\": \"algo-1\", \"Operation\": \"training\"}, \"Metrics\": {\"update.time\": {\"sum\": 1651.7717838287354, \"count\": 1, \"min\": 1651.7717838287354, \"max\": 1651.7717838287354}}}\u001b[0m\n",
      "\u001b[34m[12/07/2023 01:27:52 INFO 139744468858688] #progress_metric: host=algo-1, completed 15.0 % of epochs\u001b[0m\n",
      "\u001b[34m#metrics {\"StartTime\": 1701912471.2750025, \"EndTime\": 1701912472.9269829, \"Dimensions\": {\"Algorithm\": \"factorization-machines\", \"Host\": \"algo-1\", \"Operation\": \"training\", \"epoch\": 2, \"Meta\": \"training_data_iter\"}, \"Metrics\": {\"Total Records Seen\": {\"sum\": 480880.0, \"count\": 1, \"min\": 480880, \"max\": 480880}, \"Total Batches Seen\": {\"sum\": 481.0, \"count\": 1, \"min\": 481, \"max\": 481}, \"Max Records Seen Between Resets\": {\"sum\": 159960.0, \"count\": 1, \"min\": 159960, \"max\": 159960}, \"Max Batches Seen Between Resets\": {\"sum\": 160.0, \"count\": 1, \"min\": 160, \"max\": 160}, \"Reset Count\": {\"sum\": 4.0, \"count\": 1, \"min\": 4, \"max\": 4}, \"Number of Records Since Last Reset\": {\"sum\": 159960.0, \"count\": 1, \"min\": 159960, \"max\": 159960}, \"Number of Batches Since Last Reset\": {\"sum\": 160.0, \"count\": 1, \"min\": 160, \"max\": 160}}}\u001b[0m\n",
      "\u001b[34m[12/07/2023 01:27:52 INFO 139744468858688] #throughput_metric: host=algo-1, train throughput=96823.17135450956 records/second\u001b[0m\n",
      "\u001b[34m[12/07/2023 01:27:52 INFO 139744468858688] #quality_metric: host=algo-1, epoch=3, batch=0 train rmse <loss>=0.6792953475399733\u001b[0m\n",
      "\u001b[34m[12/07/2023 01:27:52 INFO 139744468858688] #quality_metric: host=algo-1, epoch=3, batch=0 train mse <loss>=0.46144216918945313\u001b[0m\n",
      "\u001b[34m[12/07/2023 01:27:52 INFO 139744468858688] #quality_metric: host=algo-1, epoch=3, batch=0 train absolute_loss <loss>=0.5917325439453125\u001b[0m\n",
      "\n",
      "2023-12-07 01:27:41 Training - Training image download completed. Training in progress.\u001b[34m[2023-12-07 01:27:54.576] [tensorio] [info] epoch_stats={\"data_pipeline\": \"/opt/ml/input/data/train\", \"epoch\": 8, \"duration\": 1646, \"num_examples\": 160, \"num_bytes\": 17922876}\u001b[0m\n",
      "\u001b[34m[12/07/2023 01:27:54 INFO 139744468858688] #quality_metric: host=algo-1, epoch=3, train rmse <loss>=0.6503730017671492\u001b[0m\n",
      "\u001b[34m[12/07/2023 01:27:54 INFO 139744468858688] #quality_metric: host=algo-1, epoch=3, train mse <loss>=0.4229850414276123\u001b[0m\n",
      "\u001b[34m[12/07/2023 01:27:54 INFO 139744468858688] #quality_metric: host=algo-1, epoch=3, train absolute_loss <loss>=0.5595025062561035\u001b[0m\n",
      "\u001b[34m#metrics {\"StartTime\": 1701912472.926856, \"EndTime\": 1701912474.5766146, \"Dimensions\": {\"Algorithm\": \"factorization-machines\", \"Host\": \"algo-1\", \"Operation\": \"training\"}, \"Metrics\": {\"update.time\": {\"sum\": 1648.7560272216797, \"count\": 1, \"min\": 1648.7560272216797, \"max\": 1648.7560272216797}}}\u001b[0m\n",
      "\u001b[34m[12/07/2023 01:27:54 INFO 139744468858688] #progress_metric: host=algo-1, completed 20.0 % of epochs\u001b[0m\n",
      "\u001b[34m#metrics {\"StartTime\": 1701912472.9278338, \"EndTime\": 1701912474.5768044, \"Dimensions\": {\"Algorithm\": \"factorization-machines\", \"Host\": \"algo-1\", \"Operation\": \"training\", \"epoch\": 3, \"Meta\": \"training_data_iter\"}, \"Metrics\": {\"Total Records Seen\": {\"sum\": 640840.0, \"count\": 1, \"min\": 640840, \"max\": 640840}, \"Total Batches Seen\": {\"sum\": 641.0, \"count\": 1, \"min\": 641, \"max\": 641}, \"Max Records Seen Between Resets\": {\"sum\": 159960.0, \"count\": 1, \"min\": 159960, \"max\": 159960}, \"Max Batches Seen Between Resets\": {\"sum\": 160.0, \"count\": 1, \"min\": 160, \"max\": 160}, \"Reset Count\": {\"sum\": 5.0, \"count\": 1, \"min\": 5, \"max\": 5}, \"Number of Records Since Last Reset\": {\"sum\": 159960.0, \"count\": 1, \"min\": 159960, \"max\": 159960}, \"Number of Batches Since Last Reset\": {\"sum\": 160.0, \"count\": 1, \"min\": 160, \"max\": 160}}}\u001b[0m\n",
      "\u001b[34m[12/07/2023 01:27:54 INFO 139744468858688] #throughput_metric: host=algo-1, train throughput=96997.48945515824 records/second\u001b[0m\n",
      "\u001b[34m[12/07/2023 01:27:54 INFO 139744468858688] #quality_metric: host=algo-1, epoch=4, batch=0 train rmse <loss>=0.6633613485941081\u001b[0m\n",
      "\u001b[34m[12/07/2023 01:27:54 INFO 139744468858688] #quality_metric: host=algo-1, epoch=4, batch=0 train mse <loss>=0.44004827880859376\u001b[0m\n",
      "\u001b[34m[12/07/2023 01:27:54 INFO 139744468858688] #quality_metric: host=algo-1, epoch=4, batch=0 train absolute_loss <loss>=0.5760621337890625\u001b[0m\n",
      "\u001b[34m[2023-12-07 01:27:56.193] [tensorio] [info] epoch_stats={\"data_pipeline\": \"/opt/ml/input/data/train\", \"epoch\": 10, \"duration\": 1612, \"num_examples\": 160, \"num_bytes\": 17922876}\u001b[0m\n",
      "\u001b[34m[12/07/2023 01:27:56 INFO 139744468858688] #quality_metric: host=algo-1, epoch=4, train rmse <loss>=0.6348949814108269\u001b[0m\n",
      "\u001b[34m[12/07/2023 01:27:56 INFO 139744468858688] #quality_metric: host=algo-1, epoch=4, train mse <loss>=0.4030916374206543\u001b[0m\n",
      "\u001b[34m[12/07/2023 01:27:56 INFO 139744468858688] #quality_metric: host=algo-1, epoch=4, train absolute_loss <loss>=0.5436580348968506\u001b[0m\n",
      "\u001b[34m#metrics {\"StartTime\": 1701912474.5766737, \"EndTime\": 1701912476.1937613, \"Dimensions\": {\"Algorithm\": \"factorization-machines\", \"Host\": \"algo-1\", \"Operation\": \"training\"}, \"Metrics\": {\"update.time\": {\"sum\": 1615.7090663909912, \"count\": 1, \"min\": 1615.7090663909912, \"max\": 1615.7090663909912}}}\u001b[0m\n",
      "\u001b[34m[12/07/2023 01:27:56 INFO 139744468858688] #progress_metric: host=algo-1, completed 25.0 % of epochs\u001b[0m\n",
      "\u001b[34m#metrics {\"StartTime\": 1701912474.5780275, \"EndTime\": 1701912476.1939971, \"Dimensions\": {\"Algorithm\": \"factorization-machines\", \"Host\": \"algo-1\", \"Operation\": \"training\", \"epoch\": 4, \"Meta\": \"training_data_iter\"}, \"Metrics\": {\"Total Records Seen\": {\"sum\": 800800.0, \"count\": 1, \"min\": 800800, \"max\": 800800}, \"Total Batches Seen\": {\"sum\": 801.0, \"count\": 1, \"min\": 801, \"max\": 801}, \"Max Records Seen Between Resets\": {\"sum\": 159960.0, \"count\": 1, \"min\": 159960, \"max\": 159960}, \"Max Batches Seen Between Resets\": {\"sum\": 160.0, \"count\": 1, \"min\": 160, \"max\": 160}, \"Reset Count\": {\"sum\": 6.0, \"count\": 1, \"min\": 6, \"max\": 6}, \"Number of Records Since Last Reset\": {\"sum\": 159960.0, \"count\": 1, \"min\": 159960, \"max\": 159960}, \"Number of Batches Since Last Reset\": {\"sum\": 160.0, \"count\": 1, \"min\": 160, \"max\": 160}}}\u001b[0m\n",
      "\u001b[34m[12/07/2023 01:27:56 INFO 139744468858688] #throughput_metric: host=algo-1, train throughput=98980.6983816001 records/second\u001b[0m\n",
      "\u001b[34m[12/07/2023 01:27:56 INFO 139744468858688] #quality_metric: host=algo-1, epoch=5, batch=0 train rmse <loss>=0.6485539710910486\u001b[0m\n",
      "\u001b[34m[12/07/2023 01:27:56 INFO 139744468858688] #quality_metric: host=algo-1, epoch=5, batch=0 train mse <loss>=0.42062225341796877\u001b[0m\n",
      "\u001b[34m[12/07/2023 01:27:56 INFO 139744468858688] #quality_metric: host=algo-1, epoch=5, batch=0 train absolute_loss <loss>=0.5604803466796875\u001b[0m\n",
      "\u001b[34m[2023-12-07 01:27:57.860] [tensorio] [info] epoch_stats={\"data_pipeline\": \"/opt/ml/input/data/train\", \"epoch\": 12, \"duration\": 1663, \"num_examples\": 160, \"num_bytes\": 17922876}\u001b[0m\n",
      "\u001b[34m[12/07/2023 01:27:57 INFO 139744468858688] #quality_metric: host=algo-1, epoch=5, train rmse <loss>=0.6218262737871677\u001b[0m\n",
      "\u001b[34m[12/07/2023 01:27:57 INFO 139744468858688] #quality_metric: host=algo-1, epoch=5, train mse <loss>=0.3866679147720337\u001b[0m\n",
      "\u001b[34m[12/07/2023 01:27:57 INFO 139744468858688] #quality_metric: host=algo-1, epoch=5, train absolute_loss <loss>=0.5296957662582398\u001b[0m\n",
      "\u001b[34m#metrics {\"StartTime\": 1701912476.1938212, \"EndTime\": 1701912477.860966, \"Dimensions\": {\"Algorithm\": \"factorization-machines\", \"Host\": \"algo-1\", \"Operation\": \"training\"}, \"Metrics\": {\"update.time\": {\"sum\": 1665.9951210021973, \"count\": 1, \"min\": 1665.9951210021973, \"max\": 1665.9951210021973}}}\u001b[0m\n",
      "\u001b[34m[12/07/2023 01:27:57 INFO 139744468858688] #progress_metric: host=algo-1, completed 30.0 % of epochs\u001b[0m\n",
      "\u001b[34m#metrics {\"StartTime\": 1701912476.194942, \"EndTime\": 1701912477.8611808, \"Dimensions\": {\"Algorithm\": \"factorization-machines\", \"Host\": \"algo-1\", \"Operation\": \"training\", \"epoch\": 5, \"Meta\": \"training_data_iter\"}, \"Metrics\": {\"Total Records Seen\": {\"sum\": 960760.0, \"count\": 1, \"min\": 960760, \"max\": 960760}, \"Total Batches Seen\": {\"sum\": 961.0, \"count\": 1, \"min\": 961, \"max\": 961}, \"Max Records Seen Between Resets\": {\"sum\": 159960.0, \"count\": 1, \"min\": 159960, \"max\": 159960}, \"Max Batches Seen Between Resets\": {\"sum\": 160.0, \"count\": 1, \"min\": 160, \"max\": 160}, \"Reset Count\": {\"sum\": 7.0, \"count\": 1, \"min\": 7, \"max\": 7}, \"Number of Records Since Last Reset\": {\"sum\": 159960.0, \"count\": 1, \"min\": 159960, \"max\": 159960}, \"Number of Batches Since Last Reset\": {\"sum\": 160.0, \"count\": 1, \"min\": 160, \"max\": 160}}}\u001b[0m\n",
      "\u001b[34m[12/07/2023 01:27:57 INFO 139744468858688] #throughput_metric: host=algo-1, train throughput=95994.01187690427 records/second\u001b[0m\n",
      "\u001b[34m[12/07/2023 01:27:57 INFO 139744468858688] #quality_metric: host=algo-1, epoch=6, batch=0 train rmse <loss>=0.6363689127121204\u001b[0m\n",
      "\u001b[34m[12/07/2023 01:27:57 INFO 139744468858688] #quality_metric: host=algo-1, epoch=6, batch=0 train mse <loss>=0.4049653930664063\u001b[0m\n",
      "\u001b[34m[12/07/2023 01:27:57 INFO 139744468858688] #quality_metric: host=algo-1, epoch=6, batch=0 train absolute_loss <loss>=0.5466477661132813\u001b[0m\n",
      "\u001b[34m[2023-12-07 01:27:59.485] [tensorio] [info] epoch_stats={\"data_pipeline\": \"/opt/ml/input/data/train\", \"epoch\": 14, \"duration\": 1621, \"num_examples\": 160, \"num_bytes\": 17922876}\u001b[0m\n",
      "\u001b[34m[12/07/2023 01:27:59 INFO 139744468858688] #quality_metric: host=algo-1, epoch=6, train rmse <loss>=0.6115466434409413\u001b[0m\n",
      "\u001b[34m[12/07/2023 01:27:59 INFO 139744468858688] #quality_metric: host=algo-1, epoch=6, train mse <loss>=0.37398929710388185\u001b[0m\n",
      "\u001b[34m[12/07/2023 01:27:59 INFO 139744468858688] #quality_metric: host=algo-1, epoch=6, train absolute_loss <loss>=0.5181818288803101\u001b[0m\n",
      "\u001b[34m#metrics {\"StartTime\": 1701912477.8610353, \"EndTime\": 1701912479.485852, \"Dimensions\": {\"Algorithm\": \"factorization-machines\", \"Host\": \"algo-1\", \"Operation\": \"training\"}, \"Metrics\": {\"update.time\": {\"sum\": 1623.7983703613281, \"count\": 1, \"min\": 1623.7983703613281, \"max\": 1623.7983703613281}}}\u001b[0m\n",
      "\u001b[34m[12/07/2023 01:27:59 INFO 139744468858688] #progress_metric: host=algo-1, completed 35.0 % of epochs\u001b[0m\n",
      "\u001b[34m#metrics {\"StartTime\": 1701912477.862029, \"EndTime\": 1701912479.4860501, \"Dimensions\": {\"Algorithm\": \"factorization-machines\", \"Host\": \"algo-1\", \"Operation\": \"training\", \"epoch\": 6, \"Meta\": \"training_data_iter\"}, \"Metrics\": {\"Total Records Seen\": {\"sum\": 1120720.0, \"count\": 1, \"min\": 1120720, \"max\": 1120720}, \"Total Batches Seen\": {\"sum\": 1121.0, \"count\": 1, \"min\": 1121, \"max\": 1121}, \"Max Records Seen Between Resets\": {\"sum\": 159960.0, \"count\": 1, \"min\": 159960, \"max\": 159960}, \"Max Batches Seen Between Resets\": {\"sum\": 160.0, \"count\": 1, \"min\": 160, \"max\": 160}, \"Reset Count\": {\"sum\": 8.0, \"count\": 1, \"min\": 8, \"max\": 8}, \"Number of Records Since Last Reset\": {\"sum\": 159960.0, \"count\": 1, \"min\": 159960, \"max\": 159960}, \"Number of Batches Since Last Reset\": {\"sum\": 160.0, \"count\": 1, \"min\": 160, \"max\": 160}}}\u001b[0m\n",
      "\u001b[34m[12/07/2023 01:27:59 INFO 139744468858688] #throughput_metric: host=algo-1, train throughput=98489.73902719122 records/second\u001b[0m\n",
      "\u001b[34m[12/07/2023 01:27:59 INFO 139744468858688] #quality_metric: host=algo-1, epoch=7, batch=0 train rmse <loss>=0.6270428284736493\u001b[0m\n",
      "\u001b[34m[12/07/2023 01:27:59 INFO 139744468858688] #quality_metric: host=algo-1, epoch=7, batch=0 train mse <loss>=0.39318270874023437\u001b[0m\n",
      "\u001b[34m[12/07/2023 01:27:59 INFO 139744468858688] #quality_metric: host=algo-1, epoch=7, batch=0 train absolute_loss <loss>=0.5356129760742188\u001b[0m\n",
      "\u001b[34m[2023-12-07 01:28:01.092] [tensorio] [info] epoch_stats={\"data_pipeline\": \"/opt/ml/input/data/train\", \"epoch\": 16, \"duration\": 1603, \"num_examples\": 160, \"num_bytes\": 17922876}\u001b[0m\n",
      "\u001b[34m[12/07/2023 01:28:01 INFO 139744468858688] #quality_metric: host=algo-1, epoch=7, train rmse <loss>=0.6037316032434303\u001b[0m\n",
      "\u001b[34m[12/07/2023 01:28:01 INFO 139744468858688] #quality_metric: host=algo-1, epoch=7, train mse <loss>=0.36449184875488283\u001b[0m\n",
      "\u001b[34m[12/07/2023 01:28:01 INFO 139744468858688] #quality_metric: host=algo-1, epoch=7, train absolute_loss <loss>=0.5091172481536865\u001b[0m\n",
      "\u001b[34m#metrics {\"StartTime\": 1701912479.4859254, \"EndTime\": 1701912481.0930421, \"Dimensions\": {\"Algorithm\": \"factorization-machines\", \"Host\": \"algo-1\", \"Operation\": \"training\"}, \"Metrics\": {\"update.time\": {\"sum\": 1605.9176921844482, \"count\": 1, \"min\": 1605.9176921844482, \"max\": 1605.9176921844482}}}\u001b[0m\n",
      "\u001b[34m[12/07/2023 01:28:01 INFO 139744468858688] #progress_metric: host=algo-1, completed 40.0 % of epochs\u001b[0m\n",
      "\u001b[34m#metrics {\"StartTime\": 1701912479.4870975, \"EndTime\": 1701912481.0931973, \"Dimensions\": {\"Algorithm\": \"factorization-machines\", \"Host\": \"algo-1\", \"Operation\": \"training\", \"epoch\": 7, \"Meta\": \"training_data_iter\"}, \"Metrics\": {\"Total Records Seen\": {\"sum\": 1280680.0, \"count\": 1, \"min\": 1280680, \"max\": 1280680}, \"Total Batches Seen\": {\"sum\": 1281.0, \"count\": 1, \"min\": 1281, \"max\": 1281}, \"Max Records Seen Between Resets\": {\"sum\": 159960.0, \"count\": 1, \"min\": 159960, \"max\": 159960}, \"Max Batches Seen Between Resets\": {\"sum\": 160.0, \"count\": 1, \"min\": 160, \"max\": 160}, \"Reset Count\": {\"sum\": 9.0, \"count\": 1, \"min\": 9, \"max\": 9}, \"Number of Records Since Last Reset\": {\"sum\": 159960.0, \"count\": 1, \"min\": 159960, \"max\": 159960}, \"Number of Batches Since Last Reset\": {\"sum\": 160.0, \"count\": 1, \"min\": 160, \"max\": 160}}}\u001b[0m\n",
      "\u001b[34m[12/07/2023 01:28:01 INFO 139744468858688] #throughput_metric: host=algo-1, train throughput=99589.62569923206 records/second\u001b[0m\n",
      "\u001b[34m[12/07/2023 01:28:01 INFO 139744468858688] #quality_metric: host=algo-1, epoch=8, batch=0 train rmse <loss>=0.6201377272681046\u001b[0m\n",
      "\u001b[34m[12/07/2023 01:28:01 INFO 139744468858688] #quality_metric: host=algo-1, epoch=8, batch=0 train mse <loss>=0.38457080078125\u001b[0m\n",
      "\u001b[34m[12/07/2023 01:28:01 INFO 139744468858688] #quality_metric: host=algo-1, epoch=8, batch=0 train absolute_loss <loss>=0.52658251953125\u001b[0m\n",
      "\u001b[34m[2023-12-07 01:28:02.948] [tensorio] [info] epoch_stats={\"data_pipeline\": \"/opt/ml/input/data/train\", \"epoch\": 18, \"duration\": 1852, \"num_examples\": 160, \"num_bytes\": 17922876}\u001b[0m\n",
      "\u001b[34m[12/07/2023 01:28:02 INFO 139744468858688] #quality_metric: host=algo-1, epoch=8, train rmse <loss>=0.597816200544008\u001b[0m\n",
      "\u001b[34m[12/07/2023 01:28:02 INFO 139744468858688] #quality_metric: host=algo-1, epoch=8, train mse <loss>=0.35738420963287354\u001b[0m\n",
      "\u001b[34m[12/07/2023 01:28:02 INFO 139744468858688] #quality_metric: host=algo-1, epoch=8, train absolute_loss <loss>=0.5020603197097778\u001b[0m\n",
      "\u001b[34m#metrics {\"StartTime\": 1701912481.093098, \"EndTime\": 1701912482.9494224, \"Dimensions\": {\"Algorithm\": \"factorization-machines\", \"Host\": \"algo-1\", \"Operation\": \"training\"}, \"Metrics\": {\"update.time\": {\"sum\": 1855.1974296569824, \"count\": 1, \"min\": 1855.1974296569824, \"max\": 1855.1974296569824}}}\u001b[0m\n",
      "\u001b[34m[12/07/2023 01:28:02 INFO 139744468858688] #progress_metric: host=algo-1, completed 45.0 % of epochs\u001b[0m\n",
      "\u001b[34m#metrics {\"StartTime\": 1701912481.0942001, \"EndTime\": 1701912482.9495716, \"Dimensions\": {\"Algorithm\": \"factorization-machines\", \"Host\": \"algo-1\", \"Operation\": \"training\", \"epoch\": 8, \"Meta\": \"training_data_iter\"}, \"Metrics\": {\"Total Records Seen\": {\"sum\": 1440640.0, \"count\": 1, \"min\": 1440640, \"max\": 1440640}, \"Total Batches Seen\": {\"sum\": 1441.0, \"count\": 1, \"min\": 1441, \"max\": 1441}, \"Max Records Seen Between Resets\": {\"sum\": 159960.0, \"count\": 1, \"min\": 159960, \"max\": 159960}, \"Max Batches Seen Between Resets\": {\"sum\": 160.0, \"count\": 1, \"min\": 160, \"max\": 160}, \"Reset Count\": {\"sum\": 10.0, \"count\": 1, \"min\": 10, \"max\": 10}, \"Number of Records Since Last Reset\": {\"sum\": 159960.0, \"count\": 1, \"min\": 159960, \"max\": 159960}, \"Number of Batches Since Last Reset\": {\"sum\": 160.0, \"count\": 1, \"min\": 160, \"max\": 160}}}\u001b[0m\n",
      "\u001b[34m[12/07/2023 01:28:02 INFO 139744468858688] #throughput_metric: host=algo-1, train throughput=86210.32014785208 records/second\u001b[0m\n",
      "\u001b[34m[12/07/2023 01:28:02 INFO 139744468858688] #quality_metric: host=algo-1, epoch=9, batch=0 train rmse <loss>=0.6150430754176008\u001b[0m\n",
      "\u001b[34m[12/07/2023 01:28:02 INFO 139744468858688] #quality_metric: host=algo-1, epoch=9, batch=0 train mse <loss>=0.37827798461914064\u001b[0m\n",
      "\u001b[34m[12/07/2023 01:28:02 INFO 139744468858688] #quality_metric: host=algo-1, epoch=9, batch=0 train absolute_loss <loss>=0.5193643798828125\u001b[0m\n",
      "\u001b[34m[2023-12-07 01:28:04.902] [tensorio] [info] epoch_stats={\"data_pipeline\": \"/opt/ml/input/data/train\", \"epoch\": 20, \"duration\": 1949, \"num_examples\": 160, \"num_bytes\": 17922876}\u001b[0m\n",
      "\u001b[34m[12/07/2023 01:28:04 INFO 139744468858688] #quality_metric: host=algo-1, epoch=9, train rmse <loss>=0.5932635506658959\u001b[0m\n",
      "\u001b[34m[12/07/2023 01:28:04 INFO 139744468858688] #quality_metric: host=algo-1, epoch=9, train mse <loss>=0.35196164054870605\u001b[0m\n",
      "\u001b[34m[12/07/2023 01:28:04 INFO 139744468858688] #quality_metric: host=algo-1, epoch=9, train absolute_loss <loss>=0.4964976634979248\u001b[0m\n",
      "\u001b[34m#metrics {\"StartTime\": 1701912482.9494767, \"EndTime\": 1701912484.9029603, \"Dimensions\": {\"Algorithm\": \"factorization-machines\", \"Host\": \"algo-1\", \"Operation\": \"training\"}, \"Metrics\": {\"update.time\": {\"sum\": 1952.3978233337402, \"count\": 1, \"min\": 1952.3978233337402, \"max\": 1952.3978233337402}}}\u001b[0m\n",
      "\u001b[34m[12/07/2023 01:28:04 INFO 139744468858688] #progress_metric: host=algo-1, completed 50.0 % of epochs\u001b[0m\n",
      "\u001b[34m#metrics {\"StartTime\": 1701912482.950538, \"EndTime\": 1701912484.9031196, \"Dimensions\": {\"Algorithm\": \"factorization-machines\", \"Host\": \"algo-1\", \"Operation\": \"training\", \"epoch\": 9, \"Meta\": \"training_data_iter\"}, \"Metrics\": {\"Total Records Seen\": {\"sum\": 1600600.0, \"count\": 1, \"min\": 1600600, \"max\": 1600600}, \"Total Batches Seen\": {\"sum\": 1601.0, \"count\": 1, \"min\": 1601, \"max\": 1601}, \"Max Records Seen Between Resets\": {\"sum\": 159960.0, \"count\": 1, \"min\": 159960, \"max\": 159960}, \"Max Batches Seen Between Resets\": {\"sum\": 160.0, \"count\": 1, \"min\": 160, \"max\": 160}, \"Reset Count\": {\"sum\": 11.0, \"count\": 1, \"min\": 11, \"max\": 11}, \"Number of Records Since Last Reset\": {\"sum\": 159960.0, \"count\": 1, \"min\": 159960, \"max\": 159960}, \"Number of Batches Since Last Reset\": {\"sum\": 160.0, \"count\": 1, \"min\": 160, \"max\": 160}}}\u001b[0m\n",
      "\u001b[34m[12/07/2023 01:28:04 INFO 139744468858688] #throughput_metric: host=algo-1, train throughput=81918.15958123285 records/second\u001b[0m\n",
      "\u001b[34m[12/07/2023 01:28:04 INFO 139744468858688] #quality_metric: host=algo-1, epoch=10, batch=0 train rmse <loss>=0.6112228094188782\u001b[0m\n",
      "\u001b[34m[12/07/2023 01:28:04 INFO 139744468858688] #quality_metric: host=algo-1, epoch=10, batch=0 train mse <loss>=0.3735933227539063\u001b[0m\n",
      "\u001b[34m[12/07/2023 01:28:04 INFO 139744468858688] #quality_metric: host=algo-1, epoch=10, batch=0 train absolute_loss <loss>=0.5138252563476563\u001b[0m\n",
      "\u001b[34m[2023-12-07 01:28:06.511] [tensorio] [info] epoch_stats={\"data_pipeline\": \"/opt/ml/input/data/train\", \"epoch\": 22, \"duration\": 1604, \"num_examples\": 160, \"num_bytes\": 17922876}\u001b[0m\n",
      "\u001b[34m[12/07/2023 01:28:06 INFO 139744468858688] #quality_metric: host=algo-1, epoch=10, train rmse <loss>=0.5896624700412383\u001b[0m\n",
      "\u001b[34m[12/07/2023 01:28:06 INFO 139744468858688] #quality_metric: host=algo-1, epoch=10, train mse <loss>=0.34770182857513426\u001b[0m\n",
      "\u001b[34m[12/07/2023 01:28:06 INFO 139744468858688] #quality_metric: host=algo-1, epoch=10, train absolute_loss <loss>=0.4920449085235596\u001b[0m\n",
      "\u001b[34m#metrics {\"StartTime\": 1701912484.9030182, \"EndTime\": 1701912486.5115721, \"Dimensions\": {\"Algorithm\": \"factorization-machines\", \"Host\": \"algo-1\", \"Operation\": \"training\"}, \"Metrics\": {\"update.time\": {\"sum\": 1607.3412895202637, \"count\": 1, \"min\": 1607.3412895202637, \"max\": 1607.3412895202637}}}\u001b[0m\n",
      "\u001b[34m[12/07/2023 01:28:06 INFO 139744468858688] #progress_metric: host=algo-1, completed 55.0 % of epochs\u001b[0m\n",
      "\u001b[34m#metrics {\"StartTime\": 1701912484.9042058, \"EndTime\": 1701912486.5117302, \"Dimensions\": {\"Algorithm\": \"factorization-machines\", \"Host\": \"algo-1\", \"Operation\": \"training\", \"epoch\": 10, \"Meta\": \"training_data_iter\"}, \"Metrics\": {\"Total Records Seen\": {\"sum\": 1760560.0, \"count\": 1, \"min\": 1760560, \"max\": 1760560}, \"Total Batches Seen\": {\"sum\": 1761.0, \"count\": 1, \"min\": 1761, \"max\": 1761}, \"Max Records Seen Between Resets\": {\"sum\": 159960.0, \"count\": 1, \"min\": 159960, \"max\": 159960}, \"Max Batches Seen Between Resets\": {\"sum\": 160.0, \"count\": 1, \"min\": 160, \"max\": 160}, \"Reset Count\": {\"sum\": 12.0, \"count\": 1, \"min\": 12, \"max\": 12}, \"Number of Records Since Last Reset\": {\"sum\": 159960.0, \"count\": 1, \"min\": 159960, \"max\": 159960}, \"Number of Batches Since Last Reset\": {\"sum\": 160.0, \"count\": 1, \"min\": 160, \"max\": 160}}}\u001b[0m\n",
      "\u001b[34m[12/07/2023 01:28:06 INFO 139744468858688] #throughput_metric: host=algo-1, train throughput=99500.60935961804 records/second\u001b[0m\n",
      "\u001b[34m[12/07/2023 01:28:06 INFO 139744468858688] #quality_metric: host=algo-1, epoch=11, batch=0 train rmse <loss>=0.60826872739486\u001b[0m\n",
      "\u001b[34m[12/07/2023 01:28:06 INFO 139744468858688] #quality_metric: host=algo-1, epoch=11, batch=0 train mse <loss>=0.3699908447265625\u001b[0m\n",
      "\u001b[34m[12/07/2023 01:28:06 INFO 139744468858688] #quality_metric: host=algo-1, epoch=11, batch=0 train absolute_loss <loss>=0.5096988830566406\u001b[0m\n",
      "\u001b[34m[2023-12-07 01:28:08.122] [tensorio] [info] epoch_stats={\"data_pipeline\": \"/opt/ml/input/data/train\", \"epoch\": 24, \"duration\": 1607, \"num_examples\": 160, \"num_bytes\": 17922876}\u001b[0m\n",
      "\u001b[34m[12/07/2023 01:28:08 INFO 139744468858688] #quality_metric: host=algo-1, epoch=11, train rmse <loss>=0.5867295738471372\u001b[0m\n",
      "\u001b[34m[12/07/2023 01:28:08 INFO 139744468858688] #quality_metric: host=algo-1, epoch=11, train mse <loss>=0.34425159282684326\u001b[0m\n",
      "\u001b[34m[12/07/2023 01:28:08 INFO 139744468858688] #quality_metric: host=algo-1, epoch=11, train absolute_loss <loss>=0.48843182373046873\u001b[0m\n",
      "\u001b[34m#metrics {\"StartTime\": 1701912486.5116305, \"EndTime\": 1701912488.123032, \"Dimensions\": {\"Algorithm\": \"factorization-machines\", \"Host\": \"algo-1\", \"Operation\": \"training\"}, \"Metrics\": {\"update.time\": {\"sum\": 1610.0349426269531, \"count\": 1, \"min\": 1610.0349426269531, \"max\": 1610.0349426269531}}}\u001b[0m\n",
      "\u001b[34m[12/07/2023 01:28:08 INFO 139744468858688] #progress_metric: host=algo-1, completed 60.0 % of epochs\u001b[0m\n",
      "\u001b[34m#metrics {\"StartTime\": 1701912486.5129688, \"EndTime\": 1701912488.123245, \"Dimensions\": {\"Algorithm\": \"factorization-machines\", \"Host\": \"algo-1\", \"Operation\": \"training\", \"epoch\": 11, \"Meta\": \"training_data_iter\"}, \"Metrics\": {\"Total Records Seen\": {\"sum\": 1920520.0, \"count\": 1, \"min\": 1920520, \"max\": 1920520}, \"Total Batches Seen\": {\"sum\": 1921.0, \"count\": 1, \"min\": 1921, \"max\": 1921}, \"Max Records Seen Between Resets\": {\"sum\": 159960.0, \"count\": 1, \"min\": 159960, \"max\": 159960}, \"Max Batches Seen Between Resets\": {\"sum\": 160.0, \"count\": 1, \"min\": 160, \"max\": 160}, \"Reset Count\": {\"sum\": 13.0, \"count\": 1, \"min\": 13, \"max\": 13}, \"Number of Records Since Last Reset\": {\"sum\": 159960.0, \"count\": 1, \"min\": 159960, \"max\": 159960}, \"Number of Batches Since Last Reset\": {\"sum\": 160.0, \"count\": 1, \"min\": 160, \"max\": 160}}}\u001b[0m\n",
      "\u001b[34m[12/07/2023 01:28:08 INFO 139744468858688] #throughput_metric: host=algo-1, train throughput=99330.03800599337 records/second\u001b[0m\n",
      "\u001b[34m[12/07/2023 01:28:08 INFO 139744468858688] #quality_metric: host=algo-1, epoch=12, batch=0 train rmse <loss>=0.6058931728161611\u001b[0m\n",
      "\u001b[34m[12/07/2023 01:28:08 INFO 139744468858688] #quality_metric: host=algo-1, epoch=12, batch=0 train mse <loss>=0.36710653686523437\u001b[0m\n",
      "\u001b[34m[12/07/2023 01:28:08 INFO 139744468858688] #quality_metric: host=algo-1, epoch=12, batch=0 train absolute_loss <loss>=0.5063024291992188\u001b[0m\n",
      "\u001b[34m[2023-12-07 01:28:09.706] [tensorio] [info] epoch_stats={\"data_pipeline\": \"/opt/ml/input/data/train\", \"epoch\": 26, \"duration\": 1579, \"num_examples\": 160, \"num_bytes\": 17922876}\u001b[0m\n",
      "\u001b[34m[12/07/2023 01:28:09 INFO 139744468858688] #quality_metric: host=algo-1, epoch=12, train rmse <loss>=0.5842712708479105\u001b[0m\n",
      "\u001b[34m[12/07/2023 01:28:09 INFO 139744468858688] #quality_metric: host=algo-1, epoch=12, train mse <loss>=0.34137291793823243\u001b[0m\n",
      "\u001b[34m[12/07/2023 01:28:09 INFO 139744468858688] #quality_metric: host=algo-1, epoch=12, train absolute_loss <loss>=0.48543603935241697\u001b[0m\n",
      "\u001b[34m#metrics {\"StartTime\": 1701912488.1230955, \"EndTime\": 1701912489.706682, \"Dimensions\": {\"Algorithm\": \"factorization-machines\", \"Host\": \"algo-1\", \"Operation\": \"training\"}, \"Metrics\": {\"update.time\": {\"sum\": 1582.3297500610352, \"count\": 1, \"min\": 1582.3297500610352, \"max\": 1582.3297500610352}}}\u001b[0m\n",
      "\u001b[34m[12/07/2023 01:28:09 INFO 139744468858688] #progress_metric: host=algo-1, completed 65.0 % of epochs\u001b[0m\n",
      "\u001b[34m#metrics {\"StartTime\": 1701912488.124328, \"EndTime\": 1701912489.7068436, \"Dimensions\": {\"Algorithm\": \"factorization-machines\", \"Host\": \"algo-1\", \"Operation\": \"training\", \"epoch\": 12, \"Meta\": \"training_data_iter\"}, \"Metrics\": {\"Total Records Seen\": {\"sum\": 2080480.0, \"count\": 1, \"min\": 2080480, \"max\": 2080480}, \"Total Batches Seen\": {\"sum\": 2081.0, \"count\": 1, \"min\": 2081, \"max\": 2081}, \"Max Records Seen Between Resets\": {\"sum\": 159960.0, \"count\": 1, \"min\": 159960, \"max\": 159960}, \"Max Batches Seen Between Resets\": {\"sum\": 160.0, \"count\": 1, \"min\": 160, \"max\": 160}, \"Reset Count\": {\"sum\": 14.0, \"count\": 1, \"min\": 14, \"max\": 14}, \"Number of Records Since Last Reset\": {\"sum\": 159960.0, \"count\": 1, \"min\": 159960, \"max\": 159960}, \"Number of Batches Since Last Reset\": {\"sum\": 160.0, \"count\": 1, \"min\": 160, \"max\": 160}}}\u001b[0m\n",
      "\u001b[34m[12/07/2023 01:28:09 INFO 139744468858688] #throughput_metric: host=algo-1, train throughput=101073.38248298649 records/second\u001b[0m\n",
      "\u001b[34m[12/07/2023 01:28:09 INFO 139744468858688] #quality_metric: host=algo-1, epoch=13, batch=0 train rmse <loss>=0.6039050371915377\u001b[0m\n",
      "\u001b[34m[12/07/2023 01:28:09 INFO 139744468858688] #quality_metric: host=algo-1, epoch=13, batch=0 train mse <loss>=0.3647012939453125\u001b[0m\n",
      "\u001b[34m[12/07/2023 01:28:09 INFO 139744468858688] #quality_metric: host=algo-1, epoch=13, batch=0 train absolute_loss <loss>=0.5035935974121094\u001b[0m\n",
      "\u001b[34m[2023-12-07 01:28:11.252] [tensorio] [info] epoch_stats={\"data_pipeline\": \"/opt/ml/input/data/train\", \"epoch\": 28, \"duration\": 1542, \"num_examples\": 160, \"num_bytes\": 17922876}\u001b[0m\n",
      "\u001b[34m[12/07/2023 01:28:11 INFO 139744468858688] #quality_metric: host=algo-1, epoch=13, train rmse <loss>=0.5821522975727871\u001b[0m\n",
      "\u001b[34m[12/07/2023 01:28:11 INFO 139744468858688] #quality_metric: host=algo-1, epoch=13, train mse <loss>=0.3389012975692749\u001b[0m\n",
      "\u001b[34m[12/07/2023 01:28:11 INFO 139744468858688] #quality_metric: host=algo-1, epoch=13, train absolute_loss <loss>=0.4829039878845215\u001b[0m\n",
      "\u001b[34m#metrics {\"StartTime\": 1701912489.7067418, \"EndTime\": 1701912491.2529814, \"Dimensions\": {\"Algorithm\": \"factorization-machines\", \"Host\": \"algo-1\", \"Operation\": \"training\"}, \"Metrics\": {\"update.time\": {\"sum\": 1544.877290725708, \"count\": 1, \"min\": 1544.877290725708, \"max\": 1544.877290725708}}}\u001b[0m\n",
      "\u001b[34m[12/07/2023 01:28:11 INFO 139744468858688] #progress_metric: host=algo-1, completed 70.0 % of epochs\u001b[0m\n",
      "\u001b[34m#metrics {\"StartTime\": 1701912489.7080796, \"EndTime\": 1701912491.2531312, \"Dimensions\": {\"Algorithm\": \"factorization-machines\", \"Host\": \"algo-1\", \"Operation\": \"training\", \"epoch\": 13, \"Meta\": \"training_data_iter\"}, \"Metrics\": {\"Total Records Seen\": {\"sum\": 2240440.0, \"count\": 1, \"min\": 2240440, \"max\": 2240440}, \"Total Batches Seen\": {\"sum\": 2241.0, \"count\": 1, \"min\": 2241, \"max\": 2241}, \"Max Records Seen Between Resets\": {\"sum\": 159960.0, \"count\": 1, \"min\": 159960, \"max\": 159960}, \"Max Batches Seen Between Resets\": {\"sum\": 160.0, \"count\": 1, \"min\": 160, \"max\": 160}, \"Reset Count\": {\"sum\": 15.0, \"count\": 1, \"min\": 15, \"max\": 15}, \"Number of Records Since Last Reset\": {\"sum\": 159960.0, \"count\": 1, \"min\": 159960, \"max\": 159960}, \"Number of Batches Since Last Reset\": {\"sum\": 160.0, \"count\": 1, \"min\": 160, \"max\": 160}}}\u001b[0m\n",
      "\u001b[34m[12/07/2023 01:28:11 INFO 139744468858688] #throughput_metric: host=algo-1, train throughput=103524.21446019641 records/second\u001b[0m\n",
      "\u001b[34m[12/07/2023 01:28:11 INFO 139744468858688] #quality_metric: host=algo-1, epoch=14, batch=0 train rmse <loss>=0.6021750381835236\u001b[0m\n",
      "\u001b[34m[12/07/2023 01:28:11 INFO 139744468858688] #quality_metric: host=algo-1, epoch=14, batch=0 train mse <loss>=0.3626147766113281\u001b[0m\n",
      "\u001b[34m[12/07/2023 01:28:11 INFO 139744468858688] #quality_metric: host=algo-1, epoch=14, batch=0 train absolute_loss <loss>=0.5013477172851563\u001b[0m\n",
      "\u001b[34m[2023-12-07 01:28:12.885] [tensorio] [info] epoch_stats={\"data_pipeline\": \"/opt/ml/input/data/train\", \"epoch\": 30, \"duration\": 1628, \"num_examples\": 160, \"num_bytes\": 17922876}\u001b[0m\n",
      "\u001b[34m[12/07/2023 01:28:12 INFO 139744468858688] #quality_metric: host=algo-1, epoch=14, train rmse <loss>=0.5802777199293446\u001b[0m\n",
      "\u001b[34m[12/07/2023 01:28:12 INFO 139744468858688] #quality_metric: host=algo-1, epoch=14, train mse <loss>=0.3367222322463989\u001b[0m\n",
      "\u001b[34m[12/07/2023 01:28:12 INFO 139744468858688] #quality_metric: host=algo-1, epoch=14, train absolute_loss <loss>=0.48072524375915526\u001b[0m\n",
      "\u001b[34m#metrics {\"StartTime\": 1701912491.2530398, \"EndTime\": 1701912492.8858476, \"Dimensions\": {\"Algorithm\": \"factorization-machines\", \"Host\": \"algo-1\", \"Operation\": \"training\"}, \"Metrics\": {\"update.time\": {\"sum\": 1631.4961910247803, \"count\": 1, \"min\": 1631.4961910247803, \"max\": 1631.4961910247803}}}\u001b[0m\n",
      "\u001b[34m[12/07/2023 01:28:12 INFO 139744468858688] #progress_metric: host=algo-1, completed 75.0 % of epochs\u001b[0m\n",
      "\u001b[34m#metrics {\"StartTime\": 1701912491.2543232, \"EndTime\": 1701912492.8860843, \"Dimensions\": {\"Algorithm\": \"factorization-machines\", \"Host\": \"algo-1\", \"Operation\": \"training\", \"epoch\": 14, \"Meta\": \"training_data_iter\"}, \"Metrics\": {\"Total Records Seen\": {\"sum\": 2400400.0, \"count\": 1, \"min\": 2400400, \"max\": 2400400}, \"Total Batches Seen\": {\"sum\": 2401.0, \"count\": 1, \"min\": 2401, \"max\": 2401}, \"Max Records Seen Between Resets\": {\"sum\": 159960.0, \"count\": 1, \"min\": 159960, \"max\": 159960}, \"Max Batches Seen Between Resets\": {\"sum\": 160.0, \"count\": 1, \"min\": 160, \"max\": 160}, \"Reset Count\": {\"sum\": 16.0, \"count\": 1, \"min\": 16, \"max\": 16}, \"Number of Records Since Last Reset\": {\"sum\": 159960.0, \"count\": 1, \"min\": 159960, \"max\": 159960}, \"Number of Batches Since Last Reset\": {\"sum\": 160.0, \"count\": 1, \"min\": 160, \"max\": 160}}}\u001b[0m\n",
      "\u001b[34m[12/07/2023 01:28:12 INFO 139744468858688] #throughput_metric: host=algo-1, train throughput=98022.32598911955 records/second\u001b[0m\n",
      "\u001b[34m[12/07/2023 01:28:12 INFO 139744468858688] #quality_metric: host=algo-1, epoch=15, batch=0 train rmse <loss>=0.6006143349485618\u001b[0m\n",
      "\u001b[34m[12/07/2023 01:28:12 INFO 139744468858688] #quality_metric: host=algo-1, epoch=15, batch=0 train mse <loss>=0.3607375793457031\u001b[0m\n",
      "\u001b[34m[12/07/2023 01:28:12 INFO 139744468858688] #quality_metric: host=algo-1, epoch=15, batch=0 train absolute_loss <loss>=0.4994385986328125\u001b[0m\n",
      "\u001b[34m[2023-12-07 01:28:14.398] [tensorio] [info] epoch_stats={\"data_pipeline\": \"/opt/ml/input/data/train\", \"epoch\": 32, \"duration\": 1508, \"num_examples\": 160, \"num_bytes\": 17922876}\u001b[0m\n",
      "\u001b[34m[12/07/2023 01:28:14 INFO 139744468858688] #quality_metric: host=algo-1, epoch=15, train rmse <loss>=0.5785791361562816\u001b[0m\n",
      "\u001b[34m[12/07/2023 01:28:14 INFO 139744468858688] #quality_metric: host=algo-1, epoch=15, train mse <loss>=0.3347538167953491\u001b[0m\n",
      "\u001b[34m[12/07/2023 01:28:14 INFO 139744468858688] #quality_metric: host=algo-1, epoch=15, train absolute_loss <loss>=0.47881109943389893\u001b[0m\n",
      "\u001b[34m#metrics {\"StartTime\": 1701912492.8859217, \"EndTime\": 1701912494.3987765, \"Dimensions\": {\"Algorithm\": \"factorization-machines\", \"Host\": \"algo-1\", \"Operation\": \"training\"}, \"Metrics\": {\"update.time\": {\"sum\": 1511.6231441497803, \"count\": 1, \"min\": 1511.6231441497803, \"max\": 1511.6231441497803}}}\u001b[0m\n",
      "\u001b[34m[12/07/2023 01:28:14 INFO 139744468858688] #progress_metric: host=algo-1, completed 80.0 % of epochs\u001b[0m\n",
      "\u001b[34m#metrics {\"StartTime\": 1701912492.8871286, \"EndTime\": 1701912494.3990078, \"Dimensions\": {\"Algorithm\": \"factorization-machines\", \"Host\": \"algo-1\", \"Operation\": \"training\", \"epoch\": 15, \"Meta\": \"training_data_iter\"}, \"Metrics\": {\"Total Records Seen\": {\"sum\": 2560360.0, \"count\": 1, \"min\": 2560360, \"max\": 2560360}, \"Total Batches Seen\": {\"sum\": 2561.0, \"count\": 1, \"min\": 2561, \"max\": 2561}, \"Max Records Seen Between Resets\": {\"sum\": 159960.0, \"count\": 1, \"min\": 159960, \"max\": 159960}, \"Max Batches Seen Between Resets\": {\"sum\": 160.0, \"count\": 1, \"min\": 160, \"max\": 160}, \"Reset Count\": {\"sum\": 17.0, \"count\": 1, \"min\": 17, \"max\": 17}, \"Number of Records Since Last Reset\": {\"sum\": 159960.0, \"count\": 1, \"min\": 159960, \"max\": 159960}, \"Number of Batches Since Last Reset\": {\"sum\": 160.0, \"count\": 1, \"min\": 160, \"max\": 160}}}\u001b[0m\n",
      "\u001b[34m[12/07/2023 01:28:14 INFO 139744468858688] #throughput_metric: host=algo-1, train throughput=105792.94428264396 records/second\u001b[0m\n",
      "\u001b[34m[12/07/2023 01:28:14 INFO 139744468858688] #quality_metric: host=algo-1, epoch=16, batch=0 train rmse <loss>=0.5991602807197649\u001b[0m\n",
      "\u001b[34m[12/07/2023 01:28:14 INFO 139744468858688] #quality_metric: host=algo-1, epoch=16, batch=0 train mse <loss>=0.3589930419921875\u001b[0m\n",
      "\u001b[34m[12/07/2023 01:28:14 INFO 139744468858688] #quality_metric: host=algo-1, epoch=16, batch=0 train absolute_loss <loss>=0.4977678527832031\u001b[0m\n",
      "\u001b[34m[2023-12-07 01:28:16.017] [tensorio] [info] epoch_stats={\"data_pipeline\": \"/opt/ml/input/data/train\", \"epoch\": 34, \"duration\": 1611, \"num_examples\": 160, \"num_bytes\": 17922876}\u001b[0m\n",
      "\u001b[34m[12/07/2023 01:28:16 INFO 139744468858688] #quality_metric: host=algo-1, epoch=16, train rmse <loss>=0.577006403380089\u001b[0m\n",
      "\u001b[34m[12/07/2023 01:28:16 INFO 139744468858688] #quality_metric: host=algo-1, epoch=16, train mse <loss>=0.33293638954162597\u001b[0m\n",
      "\u001b[34m[12/07/2023 01:28:16 INFO 139744468858688] #quality_metric: host=algo-1, epoch=16, train absolute_loss <loss>=0.47709167079925535\u001b[0m\n",
      "\u001b[34m#metrics {\"StartTime\": 1701912494.3988397, \"EndTime\": 1701912496.0178003, \"Dimensions\": {\"Algorithm\": \"factorization-machines\", \"Host\": \"algo-1\", \"Operation\": \"training\"}, \"Metrics\": {\"update.time\": {\"sum\": 1617.600440979004, \"count\": 1, \"min\": 1617.600440979004, \"max\": 1617.600440979004}}}\u001b[0m\n",
      "\u001b[34m[12/07/2023 01:28:16 INFO 139744468858688] #progress_metric: host=algo-1, completed 85.0 % of epochs\u001b[0m\n",
      "\u001b[34m#metrics {\"StartTime\": 1701912494.4001727, \"EndTime\": 1701912496.0180864, \"Dimensions\": {\"Algorithm\": \"factorization-machines\", \"Host\": \"algo-1\", \"Operation\": \"training\", \"epoch\": 16, \"Meta\": \"training_data_iter\"}, \"Metrics\": {\"Total Records Seen\": {\"sum\": 2720320.0, \"count\": 1, \"min\": 2720320, \"max\": 2720320}, \"Total Batches Seen\": {\"sum\": 2721.0, \"count\": 1, \"min\": 2721, \"max\": 2721}, \"Max Records Seen Between Resets\": {\"sum\": 159960.0, \"count\": 1, \"min\": 159960, \"max\": 159960}, \"Max Batches Seen Between Resets\": {\"sum\": 160.0, \"count\": 1, \"min\": 160, \"max\": 160}, \"Reset Count\": {\"sum\": 18.0, \"count\": 1, \"min\": 18, \"max\": 18}, \"Number of Records Since Last Reset\": {\"sum\": 159960.0, \"count\": 1, \"min\": 159960, \"max\": 159960}, \"Number of Batches Since Last Reset\": {\"sum\": 160.0, \"count\": 1, \"min\": 160, \"max\": 160}}}\u001b[0m\n",
      "\u001b[34m[12/07/2023 01:28:16 INFO 139744468858688] #throughput_metric: host=algo-1, train throughput=98860.56288207078 records/second\u001b[0m\n",
      "\u001b[34m[12/07/2023 01:28:16 INFO 139744468858688] #quality_metric: host=algo-1, epoch=17, batch=0 train rmse <loss>=0.5977746257360111\u001b[0m\n",
      "\u001b[34m[12/07/2023 01:28:16 INFO 139744468858688] #quality_metric: host=algo-1, epoch=17, batch=0 train mse <loss>=0.35733450317382814\u001b[0m\n",
      "\u001b[34m[12/07/2023 01:28:16 INFO 139744468858688] #quality_metric: host=algo-1, epoch=17, batch=0 train absolute_loss <loss>=0.49623626708984375\u001b[0m\n",
      "\u001b[34m[2023-12-07 01:28:17.658] [tensorio] [info] epoch_stats={\"data_pipeline\": \"/opt/ml/input/data/train\", \"epoch\": 36, \"duration\": 1637, \"num_examples\": 160, \"num_bytes\": 17922876}\u001b[0m\n",
      "\u001b[34m[12/07/2023 01:28:17 INFO 139744468858688] #quality_metric: host=algo-1, epoch=17, train rmse <loss>=0.5755240922884491\u001b[0m\n",
      "\u001b[34m[12/07/2023 01:28:17 INFO 139744468858688] #quality_metric: host=algo-1, epoch=17, train mse <loss>=0.3312279808044434\u001b[0m\n",
      "\u001b[34m[12/07/2023 01:28:17 INFO 139744468858688] #quality_metric: host=algo-1, epoch=17, train absolute_loss <loss>=0.47551715717315673\u001b[0m\n",
      "\u001b[34m#metrics {\"StartTime\": 1701912496.0178723, \"EndTime\": 1701912497.6593044, \"Dimensions\": {\"Algorithm\": \"factorization-machines\", \"Host\": \"algo-1\", \"Operation\": \"training\"}, \"Metrics\": {\"update.time\": {\"sum\": 1640.080213546753, \"count\": 1, \"min\": 1640.080213546753, \"max\": 1640.080213546753}}}\u001b[0m\n",
      "\u001b[34m[12/07/2023 01:28:17 INFO 139744468858688] #progress_metric: host=algo-1, completed 90.0 % of epochs\u001b[0m\n",
      "\u001b[34m#metrics {\"StartTime\": 1701912496.0191991, \"EndTime\": 1701912497.6595054, \"Dimensions\": {\"Algorithm\": \"factorization-machines\", \"Host\": \"algo-1\", \"Operation\": \"training\", \"epoch\": 17, \"Meta\": \"training_data_iter\"}, \"Metrics\": {\"Total Records Seen\": {\"sum\": 2880280.0, \"count\": 1, \"min\": 2880280, \"max\": 2880280}, \"Total Batches Seen\": {\"sum\": 2881.0, \"count\": 1, \"min\": 2881, \"max\": 2881}, \"Max Records Seen Between Resets\": {\"sum\": 159960.0, \"count\": 1, \"min\": 159960, \"max\": 159960}, \"Max Batches Seen Between Resets\": {\"sum\": 160.0, \"count\": 1, \"min\": 160, \"max\": 160}, \"Reset Count\": {\"sum\": 19.0, \"count\": 1, \"min\": 19, \"max\": 19}, \"Number of Records Since Last Reset\": {\"sum\": 159960.0, \"count\": 1, \"min\": 159960, \"max\": 159960}, \"Number of Batches Since Last Reset\": {\"sum\": 160.0, \"count\": 1, \"min\": 160, \"max\": 160}}}\u001b[0m\n",
      "\u001b[34m[12/07/2023 01:28:17 INFO 139744468858688] #throughput_metric: host=algo-1, train throughput=97512.73488334371 records/second\u001b[0m\n",
      "\u001b[34m[12/07/2023 01:28:17 INFO 139744468858688] #quality_metric: host=algo-1, epoch=18, batch=0 train rmse <loss>=0.5964380968049513\u001b[0m\n",
      "\u001b[34m[12/07/2023 01:28:17 INFO 139744468858688] #quality_metric: host=algo-1, epoch=18, batch=0 train mse <loss>=0.3557384033203125\u001b[0m\n",
      "\u001b[34m[12/07/2023 01:28:17 INFO 139744468858688] #quality_metric: host=algo-1, epoch=18, batch=0 train absolute_loss <loss>=0.49475601196289065\u001b[0m\n",
      "\u001b[34m[2023-12-07 01:28:19.250] [tensorio] [info] epoch_stats={\"data_pipeline\": \"/opt/ml/input/data/train\", \"epoch\": 38, \"duration\": 1588, \"num_examples\": 160, \"num_bytes\": 17922876}\u001b[0m\n",
      "\u001b[34m[12/07/2023 01:28:19 INFO 139744468858688] #quality_metric: host=algo-1, epoch=18, train rmse <loss>=0.5741101383384491\u001b[0m\n",
      "\u001b[34m[12/07/2023 01:28:19 INFO 139744468858688] #quality_metric: host=algo-1, epoch=18, train mse <loss>=0.3296024509429932\u001b[0m\n",
      "\u001b[34m[12/07/2023 01:28:19 INFO 139744468858688] #quality_metric: host=algo-1, epoch=18, train absolute_loss <loss>=0.4740429876327515\u001b[0m\n",
      "\u001b[34m#metrics {\"StartTime\": 1701912497.6593914, \"EndTime\": 1701912499.2513535, \"Dimensions\": {\"Algorithm\": \"factorization-machines\", \"Host\": \"algo-1\", \"Operation\": \"training\"}, \"Metrics\": {\"update.time\": {\"sum\": 1590.585470199585, \"count\": 1, \"min\": 1590.585470199585, \"max\": 1590.585470199585}}}\u001b[0m\n",
      "\u001b[34m[12/07/2023 01:28:19 INFO 139744468858688] #progress_metric: host=algo-1, completed 95.0 % of epochs\u001b[0m\n",
      "\u001b[34m#metrics {\"StartTime\": 1701912497.6607447, \"EndTime\": 1701912499.251498, \"Dimensions\": {\"Algorithm\": \"factorization-machines\", \"Host\": \"algo-1\", \"Operation\": \"training\", \"epoch\": 18, \"Meta\": \"training_data_iter\"}, \"Metrics\": {\"Total Records Seen\": {\"sum\": 3040240.0, \"count\": 1, \"min\": 3040240, \"max\": 3040240}, \"Total Batches Seen\": {\"sum\": 3041.0, \"count\": 1, \"min\": 3041, \"max\": 3041}, \"Max Records Seen Between Resets\": {\"sum\": 159960.0, \"count\": 1, \"min\": 159960, \"max\": 159960}, \"Max Batches Seen Between Resets\": {\"sum\": 160.0, \"count\": 1, \"min\": 160, \"max\": 160}, \"Reset Count\": {\"sum\": 20.0, \"count\": 1, \"min\": 20, \"max\": 20}, \"Number of Records Since Last Reset\": {\"sum\": 159960.0, \"count\": 1, \"min\": 159960, \"max\": 159960}, \"Number of Batches Since Last Reset\": {\"sum\": 160.0, \"count\": 1, \"min\": 160, \"max\": 160}}}\u001b[0m\n",
      "\u001b[34m[12/07/2023 01:28:19 INFO 139744468858688] #throughput_metric: host=algo-1, train throughput=100550.4200445951 records/second\u001b[0m\n",
      "\u001b[34m[12/07/2023 01:28:19 INFO 139744468858688] #quality_metric: host=algo-1, epoch=19, batch=0 train rmse <loss>=0.5951360005333733\u001b[0m\n",
      "\u001b[34m[12/07/2023 01:28:19 INFO 139744468858688] #quality_metric: host=algo-1, epoch=19, batch=0 train mse <loss>=0.3541868591308594\u001b[0m\n",
      "\u001b[34m[12/07/2023 01:28:19 INFO 139744468858688] #quality_metric: host=algo-1, epoch=19, batch=0 train absolute_loss <loss>=0.49334259033203126\u001b[0m\n",
      "\u001b[34m[2023-12-07 01:28:20.928] [tensorio] [info] epoch_stats={\"data_pipeline\": \"/opt/ml/input/data/train\", \"epoch\": 40, \"duration\": 1673, \"num_examples\": 160, \"num_bytes\": 17922876}\u001b[0m\n",
      "\u001b[34m[12/07/2023 01:28:20 INFO 139744468858688] #quality_metric: host=algo-1, epoch=19, train rmse <loss>=0.5727509149471652\u001b[0m\n",
      "\u001b[34m[12/07/2023 01:28:20 INFO 139744468858688] #quality_metric: host=algo-1, epoch=19, train mse <loss>=0.32804361057281495\u001b[0m\n",
      "\u001b[34m[12/07/2023 01:28:20 INFO 139744468858688] #quality_metric: host=algo-1, epoch=19, train absolute_loss <loss>=0.47264719753265383\u001b[0m\n",
      "\u001b[34m[12/07/2023 01:28:20 INFO 139744468858688] #quality_metric: host=algo-1, train rmse <loss>=0.5727509149471652\u001b[0m\n",
      "\u001b[34m[12/07/2023 01:28:20 INFO 139744468858688] #quality_metric: host=algo-1, train mse <loss>=0.32804361057281495\u001b[0m\n",
      "\u001b[34m[12/07/2023 01:28:20 INFO 139744468858688] #quality_metric: host=algo-1, train absolute_loss <loss>=0.47264719753265383\u001b[0m\n",
      "\u001b[34m#metrics {\"StartTime\": 1701912499.2514083, \"EndTime\": 1701912500.9288385, \"Dimensions\": {\"Algorithm\": \"factorization-machines\", \"Host\": \"algo-1\", \"Operation\": \"training\"}, \"Metrics\": {\"update.time\": {\"sum\": 1676.0578155517578, \"count\": 1, \"min\": 1676.0578155517578, \"max\": 1676.0578155517578}}}\u001b[0m\n",
      "\u001b[34m[12/07/2023 01:28:20 INFO 139744468858688] #progress_metric: host=algo-1, completed 100.0 % of epochs\u001b[0m\n",
      "\u001b[34m#metrics {\"StartTime\": 1701912499.252757, \"EndTime\": 1701912500.9289827, \"Dimensions\": {\"Algorithm\": \"factorization-machines\", \"Host\": \"algo-1\", \"Operation\": \"training\", \"epoch\": 19, \"Meta\": \"training_data_iter\"}, \"Metrics\": {\"Total Records Seen\": {\"sum\": 3200200.0, \"count\": 1, \"min\": 3200200, \"max\": 3200200}, \"Total Batches Seen\": {\"sum\": 3201.0, \"count\": 1, \"min\": 3201, \"max\": 3201}, \"Max Records Seen Between Resets\": {\"sum\": 159960.0, \"count\": 1, \"min\": 159960, \"max\": 159960}, \"Max Batches Seen Between Resets\": {\"sum\": 160.0, \"count\": 1, \"min\": 160, \"max\": 160}, \"Reset Count\": {\"sum\": 21.0, \"count\": 1, \"min\": 21, \"max\": 21}, \"Number of Records Since Last Reset\": {\"sum\": 159960.0, \"count\": 1, \"min\": 159960, \"max\": 159960}, \"Number of Batches Since Last Reset\": {\"sum\": 160.0, \"count\": 1, \"min\": 160, \"max\": 160}}}\u001b[0m\n",
      "\u001b[34m[12/07/2023 01:28:20 INFO 139744468858688] #throughput_metric: host=algo-1, train throughput=95421.52600002816 records/second\u001b[0m\n",
      "\u001b[34m[12/07/2023 01:28:20 WARNING 139744468858688] wait_for_all_workers will not sync workers since the kv store is not running distributed\u001b[0m\n",
      "\u001b[34m[12/07/2023 01:28:20 INFO 139744468858688] Pulling entire model from kvstore to finalize\u001b[0m\n",
      "\u001b[34m#metrics {\"StartTime\": 1701912500.9288943, \"EndTime\": 1701912500.9350295, \"Dimensions\": {\"Algorithm\": \"factorization-machines\", \"Host\": \"algo-1\", \"Operation\": \"training\"}, \"Metrics\": {\"finalize.time\": {\"sum\": 5.805253982543945, \"count\": 1, \"min\": 5.805253982543945, \"max\": 5.805253982543945}}}\u001b[0m\n",
      "\u001b[34m[12/07/2023 01:28:20 INFO 139744468858688] Saved checkpoint to \"/tmp/tmp4b73bywi/state-0001.params\"\u001b[0m\n",
      "\u001b[34m[2023-12-07 01:28:20.969] [tensorio] [info] epoch_stats={\"data_pipeline\": \"/opt/ml/input/data/test\", \"epoch\": 0, \"duration\": 33790, \"num_examples\": 1, \"num_bytes\": 112180}\u001b[0m\n",
      "\u001b[34m[2023-12-07 01:28:21.243] [tensorio] [info] epoch_stats={\"data_pipeline\": \"/opt/ml/input/data/test\", \"epoch\": 1, \"duration\": 274, \"num_examples\": 40, \"num_bytes\": 4479620}\u001b[0m\n",
      "\u001b[34m#metrics {\"StartTime\": 1701912500.9690566, \"EndTime\": 1701912501.2440417, \"Dimensions\": {\"Algorithm\": \"factorization-machines\", \"Host\": \"algo-1\", \"Operation\": \"training\", \"Meta\": \"test_data_iter\"}, \"Metrics\": {\"Total Records Seen\": {\"sum\": 39990.0, \"count\": 1, \"min\": 39990, \"max\": 39990}, \"Total Batches Seen\": {\"sum\": 40.0, \"count\": 1, \"min\": 40, \"max\": 40}, \"Max Records Seen Between Resets\": {\"sum\": 39990.0, \"count\": 1, \"min\": 39990, \"max\": 39990}, \"Max Batches Seen Between Resets\": {\"sum\": 40.0, \"count\": 1, \"min\": 40, \"max\": 40}, \"Reset Count\": {\"sum\": 1.0, \"count\": 1, \"min\": 1, \"max\": 1}, \"Number of Records Since Last Reset\": {\"sum\": 39990.0, \"count\": 1, \"min\": 39990, \"max\": 39990}, \"Number of Batches Since Last Reset\": {\"sum\": 40.0, \"count\": 1, \"min\": 40, \"max\": 40}}}\u001b[0m\n",
      "\u001b[34m[12/07/2023 01:28:21 INFO 139744468858688] #test_score (algo-1) : ('rmse', 0.6800981248652165)\u001b[0m\n",
      "\u001b[34m[12/07/2023 01:28:21 INFO 139744468858688] #test_score (algo-1) : ('mse', 0.46253345944518354)\u001b[0m\n",
      "\u001b[34m[12/07/2023 01:28:21 INFO 139744468858688] #test_score (algo-1) : ('absolute_loss', 0.5640721612287838)\u001b[0m\n",
      "\u001b[34m[12/07/2023 01:28:21 INFO 139744468858688] #quality_metric: host=algo-1, test rmse <loss>=0.6800981248652165\u001b[0m\n",
      "\u001b[34m[12/07/2023 01:28:21 INFO 139744468858688] #quality_metric: host=algo-1, test mse <loss>=0.46253345944518354\u001b[0m\n",
      "\u001b[34m[12/07/2023 01:28:21 INFO 139744468858688] #quality_metric: host=algo-1, test absolute_loss <loss>=0.5640721612287838\u001b[0m\n",
      "\u001b[34m#metrics {\"StartTime\": 1701912500.935116, \"EndTime\": 1701912501.2446465, \"Dimensions\": {\"Algorithm\": \"factorization-machines\", \"Host\": \"algo-1\", \"Operation\": \"training\"}, \"Metrics\": {\"setuptime\": {\"sum\": 15.398502349853516, \"count\": 1, \"min\": 15.398502349853516, \"max\": 15.398502349853516}, \"totaltime\": {\"sum\": 34087.99910545349, \"count\": 1, \"min\": 34087.99910545349, \"max\": 34087.99910545349}}}\u001b[0m\n",
      "\n",
      "2023-12-07 01:28:38 Uploading - Uploading generated training model\n",
      "2023-12-07 01:28:38 Completed - Training job completed\n",
      "Training seconds: 298\n",
      "Billable seconds: 298\n"
     ]
    }
   ],
   "source": [
    "fm.fit({'train': train_data_location, 'test': test_data_location})"
   ]
  },
  {
   "cell_type": "code",
   "execution_count": 48,
   "id": "562c561e-7577-4710-af37-81a84007fd80",
   "metadata": {
    "tags": []
   },
   "outputs": [
    {
     "name": "stderr",
     "output_type": "stream",
     "text": [
      "INFO:sagemaker:Creating model with name: factorization-machines-2023-12-07-01-29-25-129\n",
      "INFO:sagemaker:Creating endpoint-config with name clickstreamrec-collabfilter-model-12-07-01-18\n",
      "INFO:sagemaker:Creating endpoint with name clickstreamrec-collabfilter-model-12-07-01-18\n"
     ]
    }
   ],
   "source": [
    "cf_model_predictor = fm.deploy(\n",
    "    endpoint_name = cf_model_endpoint_name,\n",
    "    initial_instance_count=1,\n",
    "    instance_type=\"ml.m4.xlarge\",\n",
    "    serializer=FMSerializer(),\n",
    "    deserializer=JSONDeserializer(),\n",
    "    wait=False\n",
    ")"
   ]
  },
  {
   "cell_type": "code",
   "execution_count": 50,
   "id": "e8c3c542-4e1a-4be0-809a-e8ad802d9c07",
   "metadata": {
    "tags": []
   },
   "outputs": [
    {
     "name": "stderr",
     "output_type": "stream",
     "text": [
      "INFO:sagemaker:Query e6cef6e3-8913-4e78-a186-5f0a084d87c3 is being executed.\n",
      "INFO:sagemaker:Query e6cef6e3-8913-4e78-a186-5f0a084d87c3 is being executed.\n",
      "INFO:sagemaker:Query e6cef6e3-8913-4e78-a186-5f0a084d87c3 successfully executed.\n"
     ]
    },
    {
     "data": {
      "text/html": [
       "<div>\n",
       "<style scoped>\n",
       "    .dataframe tbody tr th:only-of-type {\n",
       "        vertical-align: middle;\n",
       "    }\n",
       "\n",
       "    .dataframe tbody tr th {\n",
       "        vertical-align: top;\n",
       "    }\n",
       "\n",
       "    .dataframe thead th {\n",
       "        text-align: right;\n",
       "    }\n",
       "</style>\n",
       "<table border=\"1\" class=\"dataframe\">\n",
       "  <thead>\n",
       "    <tr style=\"text-align: right;\">\n",
       "      <th></th>\n",
       "      <th>bought</th>\n",
       "      <th>healthy_activity_last_2m</th>\n",
       "      <th>product_health_index</th>\n",
       "      <th>customer_health_index</th>\n",
       "      <th>product_category</th>\n",
       "    </tr>\n",
       "  </thead>\n",
       "  <tbody>\n",
       "    <tr>\n",
       "      <th>0</th>\n",
       "      <td>0</td>\n",
       "      <td>1</td>\n",
       "      <td>0.9</td>\n",
       "      <td>0.380234</td>\n",
       "      <td>tea</td>\n",
       "    </tr>\n",
       "    <tr>\n",
       "      <th>1</th>\n",
       "      <td>0</td>\n",
       "      <td>1</td>\n",
       "      <td>0.9</td>\n",
       "      <td>0.380234</td>\n",
       "      <td>tea</td>\n",
       "    </tr>\n",
       "    <tr>\n",
       "      <th>2</th>\n",
       "      <td>1</td>\n",
       "      <td>7</td>\n",
       "      <td>0.7</td>\n",
       "      <td>0.252120</td>\n",
       "      <td>coffee</td>\n",
       "    </tr>\n",
       "    <tr>\n",
       "      <th>3</th>\n",
       "      <td>1</td>\n",
       "      <td>7</td>\n",
       "      <td>0.7</td>\n",
       "      <td>0.252120</td>\n",
       "      <td>coffee</td>\n",
       "    </tr>\n",
       "    <tr>\n",
       "      <th>4</th>\n",
       "      <td>0</td>\n",
       "      <td>0</td>\n",
       "      <td>0.9</td>\n",
       "      <td>0.004994</td>\n",
       "      <td>vitamins_supplements</td>\n",
       "    </tr>\n",
       "  </tbody>\n",
       "</table>\n",
       "</div>"
      ],
      "text/plain": [
       "   bought  healthy_activity_last_2m  product_health_index  \\\n",
       "0       0                         1                   0.9   \n",
       "1       0                         1                   0.9   \n",
       "2       1                         7                   0.7   \n",
       "3       1                         7                   0.7   \n",
       "4       0                         0                   0.9   \n",
       "\n",
       "   customer_health_index      product_category  \n",
       "0               0.380234                   tea  \n",
       "1               0.380234                   tea  \n",
       "2               0.252120                coffee  \n",
       "3               0.252120                coffee  \n",
       "4               0.004994  vitamins_supplements  "
      ]
     },
     "execution_count": 50,
     "metadata": {},
     "output_type": "execute_result"
    }
   ],
   "source": [
    "query = f'''\n",
    "select bought,\n",
    "       healthy_activity_last_2m,\n",
    "       product_health_index,\n",
    "       customer_health_index,\n",
    "       product_category\n",
    "from (\n",
    "    select c.customer_health_index,\n",
    "           cs.product_id,\n",
    "           cs.healthy_activity_last_2m,\n",
    "           cs.bought\n",
    "    from \"{click_stream_historical_table}\" as cs\n",
    "    left join \"{customers_table}\" as c\n",
    "    on cs.customer_id = c.customer_id\n",
    ") click_stream_customers\n",
    "left join\n",
    "(select * from \"{products_table}\") products\n",
    "on click_stream_customers.product_id = products.product_id\n",
    "'''\n",
    "\n",
    "df_rank_features, query = query_offline_store(click_stream_feature_group_name, query,\n",
    "                                              sagemaker_session)\n",
    "df_rank_features.head()"
   ]
  },
  {
   "cell_type": "code",
   "execution_count": 51,
   "id": "b2200f22-54bb-4c1a-89c5-04df5080c15b",
   "metadata": {
    "tags": []
   },
   "outputs": [
    {
     "data": {
      "text/html": [
       "<div>\n",
       "<style scoped>\n",
       "    .dataframe tbody tr th:only-of-type {\n",
       "        vertical-align: middle;\n",
       "    }\n",
       "\n",
       "    .dataframe tbody tr th {\n",
       "        vertical-align: top;\n",
       "    }\n",
       "\n",
       "    .dataframe thead th {\n",
       "        text-align: right;\n",
       "    }\n",
       "</style>\n",
       "<table border=\"1\" class=\"dataframe\">\n",
       "  <thead>\n",
       "    <tr style=\"text-align: right;\">\n",
       "      <th></th>\n",
       "      <th>bought</th>\n",
       "      <th>healthy_activity_last_2m</th>\n",
       "      <th>product_health_index</th>\n",
       "      <th>customer_health_index</th>\n",
       "      <th>prod_cat_baby_food_formula</th>\n",
       "      <th>prod_cat_baking_ingredients</th>\n",
       "      <th>prod_cat_candy_chocolate</th>\n",
       "      <th>prod_cat_chips_pretzels</th>\n",
       "      <th>prod_cat_cleaning_products</th>\n",
       "      <th>prod_cat_coffee</th>\n",
       "      <th>...</th>\n",
       "      <th>prod_cat_hair_care</th>\n",
       "      <th>prod_cat_ice_cream_ice</th>\n",
       "      <th>prod_cat_juice_nectars</th>\n",
       "      <th>prod_cat_packaged_cheese</th>\n",
       "      <th>prod_cat_refrigerated</th>\n",
       "      <th>prod_cat_soup_broth_bouillon</th>\n",
       "      <th>prod_cat_spices_seasonings</th>\n",
       "      <th>prod_cat_tea</th>\n",
       "      <th>prod_cat_vitamins_supplements</th>\n",
       "      <th>prod_cat_yogurt</th>\n",
       "    </tr>\n",
       "  </thead>\n",
       "  <tbody>\n",
       "    <tr>\n",
       "      <th>0</th>\n",
       "      <td>0</td>\n",
       "      <td>1</td>\n",
       "      <td>0.9</td>\n",
       "      <td>0.380234</td>\n",
       "      <td>0</td>\n",
       "      <td>0</td>\n",
       "      <td>0</td>\n",
       "      <td>0</td>\n",
       "      <td>0</td>\n",
       "      <td>0</td>\n",
       "      <td>...</td>\n",
       "      <td>0</td>\n",
       "      <td>0</td>\n",
       "      <td>0</td>\n",
       "      <td>0</td>\n",
       "      <td>0</td>\n",
       "      <td>0</td>\n",
       "      <td>0</td>\n",
       "      <td>1</td>\n",
       "      <td>0</td>\n",
       "      <td>0</td>\n",
       "    </tr>\n",
       "    <tr>\n",
       "      <th>1</th>\n",
       "      <td>0</td>\n",
       "      <td>1</td>\n",
       "      <td>0.9</td>\n",
       "      <td>0.380234</td>\n",
       "      <td>0</td>\n",
       "      <td>0</td>\n",
       "      <td>0</td>\n",
       "      <td>0</td>\n",
       "      <td>0</td>\n",
       "      <td>0</td>\n",
       "      <td>...</td>\n",
       "      <td>0</td>\n",
       "      <td>0</td>\n",
       "      <td>0</td>\n",
       "      <td>0</td>\n",
       "      <td>0</td>\n",
       "      <td>0</td>\n",
       "      <td>0</td>\n",
       "      <td>1</td>\n",
       "      <td>0</td>\n",
       "      <td>0</td>\n",
       "    </tr>\n",
       "    <tr>\n",
       "      <th>2</th>\n",
       "      <td>1</td>\n",
       "      <td>7</td>\n",
       "      <td>0.7</td>\n",
       "      <td>0.252120</td>\n",
       "      <td>0</td>\n",
       "      <td>0</td>\n",
       "      <td>0</td>\n",
       "      <td>0</td>\n",
       "      <td>0</td>\n",
       "      <td>1</td>\n",
       "      <td>...</td>\n",
       "      <td>0</td>\n",
       "      <td>0</td>\n",
       "      <td>0</td>\n",
       "      <td>0</td>\n",
       "      <td>0</td>\n",
       "      <td>0</td>\n",
       "      <td>0</td>\n",
       "      <td>0</td>\n",
       "      <td>0</td>\n",
       "      <td>0</td>\n",
       "    </tr>\n",
       "    <tr>\n",
       "      <th>3</th>\n",
       "      <td>1</td>\n",
       "      <td>7</td>\n",
       "      <td>0.7</td>\n",
       "      <td>0.252120</td>\n",
       "      <td>0</td>\n",
       "      <td>0</td>\n",
       "      <td>0</td>\n",
       "      <td>0</td>\n",
       "      <td>0</td>\n",
       "      <td>1</td>\n",
       "      <td>...</td>\n",
       "      <td>0</td>\n",
       "      <td>0</td>\n",
       "      <td>0</td>\n",
       "      <td>0</td>\n",
       "      <td>0</td>\n",
       "      <td>0</td>\n",
       "      <td>0</td>\n",
       "      <td>0</td>\n",
       "      <td>0</td>\n",
       "      <td>0</td>\n",
       "    </tr>\n",
       "    <tr>\n",
       "      <th>4</th>\n",
       "      <td>0</td>\n",
       "      <td>0</td>\n",
       "      <td>0.9</td>\n",
       "      <td>0.004994</td>\n",
       "      <td>0</td>\n",
       "      <td>0</td>\n",
       "      <td>0</td>\n",
       "      <td>0</td>\n",
       "      <td>0</td>\n",
       "      <td>0</td>\n",
       "      <td>...</td>\n",
       "      <td>0</td>\n",
       "      <td>0</td>\n",
       "      <td>0</td>\n",
       "      <td>0</td>\n",
       "      <td>0</td>\n",
       "      <td>0</td>\n",
       "      <td>0</td>\n",
       "      <td>0</td>\n",
       "      <td>1</td>\n",
       "      <td>0</td>\n",
       "    </tr>\n",
       "  </tbody>\n",
       "</table>\n",
       "<p>5 rows × 24 columns</p>\n",
       "</div>"
      ],
      "text/plain": [
       "   bought  healthy_activity_last_2m  product_health_index  \\\n",
       "0       0                         1                   0.9   \n",
       "1       0                         1                   0.9   \n",
       "2       1                         7                   0.7   \n",
       "3       1                         7                   0.7   \n",
       "4       0                         0                   0.9   \n",
       "\n",
       "   customer_health_index  prod_cat_baby_food_formula  \\\n",
       "0               0.380234                           0   \n",
       "1               0.380234                           0   \n",
       "2               0.252120                           0   \n",
       "3               0.252120                           0   \n",
       "4               0.004994                           0   \n",
       "\n",
       "   prod_cat_baking_ingredients  prod_cat_candy_chocolate  \\\n",
       "0                            0                         0   \n",
       "1                            0                         0   \n",
       "2                            0                         0   \n",
       "3                            0                         0   \n",
       "4                            0                         0   \n",
       "\n",
       "   prod_cat_chips_pretzels  prod_cat_cleaning_products  prod_cat_coffee  ...  \\\n",
       "0                        0                           0                0  ...   \n",
       "1                        0                           0                0  ...   \n",
       "2                        0                           0                1  ...   \n",
       "3                        0                           0                1  ...   \n",
       "4                        0                           0                0  ...   \n",
       "\n",
       "   prod_cat_hair_care  prod_cat_ice_cream_ice  prod_cat_juice_nectars  \\\n",
       "0                   0                       0                       0   \n",
       "1                   0                       0                       0   \n",
       "2                   0                       0                       0   \n",
       "3                   0                       0                       0   \n",
       "4                   0                       0                       0   \n",
       "\n",
       "   prod_cat_packaged_cheese  prod_cat_refrigerated  \\\n",
       "0                         0                      0   \n",
       "1                         0                      0   \n",
       "2                         0                      0   \n",
       "3                         0                      0   \n",
       "4                         0                      0   \n",
       "\n",
       "   prod_cat_soup_broth_bouillon  prod_cat_spices_seasonings  prod_cat_tea  \\\n",
       "0                             0                           0             1   \n",
       "1                             0                           0             1   \n",
       "2                             0                           0             0   \n",
       "3                             0                           0             0   \n",
       "4                             0                           0             0   \n",
       "\n",
       "   prod_cat_vitamins_supplements  prod_cat_yogurt  \n",
       "0                              0                0  \n",
       "1                              0                0  \n",
       "2                              0                0  \n",
       "3                              0                0  \n",
       "4                              1                0  \n",
       "\n",
       "[5 rows x 24 columns]"
      ]
     },
     "execution_count": 51,
     "metadata": {},
     "output_type": "execute_result"
    }
   ],
   "source": [
    "df_rank_features = pd.concat([df_rank_features, pd.get_dummies(df_rank_features['product_category'], prefix='prod_cat')], axis=1)\n",
    "del df_rank_features['product_category']\n",
    "df_rank_features.head()"
   ]
  },
  {
   "cell_type": "code",
   "execution_count": 52,
   "id": "fd869af0-47c1-495d-bce8-b8719c3f838b",
   "metadata": {
    "tags": []
   },
   "outputs": [],
   "source": [
    "train_data, validation_data, _ = np.split(df_rank_features.sample(frac=1, random_state=1729), [int(0.7 * len(df_rank_features)), int(0.9 * len(df_rank_features))])\n",
    "train_data.to_csv('train.csv', header=False, index=False)\n",
    "validation_data.to_csv('validation.csv', header=False, index=False)\n",
    "boto3.Session().resource('s3').Bucket(default_bucket).Object(os.path.join(prefix, 'train/train.csv')).upload_file('train.csv')\n",
    "boto3.Session().resource('s3').Bucket(default_bucket).Object(os.path.join(prefix, 'validation/validation.csv')).upload_file('validation.csv')\n",
    "s3_input_train = TrainingInput(s3_data='s3://{}/{}/train/train.csv'.format(default_bucket, prefix), content_type='csv')\n",
    "s3_input_validation = TrainingInput(s3_data='s3://{}/{}/validation/validation.csv'.format(default_bucket, prefix), content_type='csv')"
   ]
  },
  {
   "cell_type": "code",
   "execution_count": 53,
   "id": "cf923c8c-f6f2-49fe-88cf-72860a17b21c",
   "metadata": {
    "tags": []
   },
   "outputs": [
    {
     "name": "stderr",
     "output_type": "stream",
     "text": [
      "INFO:sagemaker.image_uris:Ignoring unnecessary instance type: None.\n",
      "INFO:sagemaker:Creating training-job with name: sagemaker-xgboost-2023-12-07-01-34-43-910\n"
     ]
    },
    {
     "name": "stdout",
     "output_type": "stream",
     "text": [
      "2023-12-07 01:34:44 Starting - Starting the training job......\n",
      "2023-12-07 01:35:19 Starting - Preparing the instances for training......\n",
      "2023-12-07 01:36:44 Downloading - Downloading input data......\n",
      "2023-12-07 01:37:15 Training - Downloading the training image........\u001b[34m[2023-12-07 01:38:56.213 ip-10-2-98-94.ec2.internal:7 INFO utils.py:27] RULE_JOB_STOP_SIGNAL_FILENAME: None\u001b[0m\n",
      "\u001b[34m[2023-12-07:01:38:56:INFO] Imported framework sagemaker_xgboost_container.training\u001b[0m\n",
      "\u001b[34m[2023-12-07:01:38:56:INFO] Failed to parse hyperparameter objective value binary:logistic to Json.\u001b[0m\n",
      "\u001b[34mReturning the value itself\u001b[0m\n",
      "\u001b[34m[2023-12-07:01:38:56:INFO] No GPUs detected (normal if no gpus installed)\u001b[0m\n",
      "\u001b[34m[2023-12-07:01:38:56:INFO] Running XGBoost Sagemaker in algorithm mode\u001b[0m\n",
      "\u001b[34m[2023-12-07:01:38:56:INFO] Determined delimiter of CSV input is ','\u001b[0m\n",
      "\u001b[34m[2023-12-07:01:38:56:INFO] Determined delimiter of CSV input is ','\u001b[0m\n",
      "\u001b[34m[2023-12-07:01:38:56:INFO] Determined delimiter of CSV input is ','\u001b[0m\n",
      "\u001b[34m[2023-12-07:01:38:56:INFO] Determined delimiter of CSV input is ','\u001b[0m\n",
      "\u001b[34m[2023-12-07:01:38:56:INFO] Single node training.\u001b[0m\n",
      "\u001b[34m[2023-12-07:01:38:56:INFO] Train matrix has 279930 rows and 23 columns\u001b[0m\n",
      "\u001b[34m[2023-12-07:01:38:56:INFO] Validation matrix has 79980 rows\u001b[0m\n",
      "\u001b[34m[2023-12-07 01:38:56.722 ip-10-2-98-94.ec2.internal:7 INFO json_config.py:91] Creating hook from json_config at /opt/ml/input/config/debughookconfig.json.\u001b[0m\n",
      "\u001b[34m[2023-12-07 01:38:56.723 ip-10-2-98-94.ec2.internal:7 INFO hook.py:201] tensorboard_dir has not been set for the hook. SMDebug will not be exporting tensorboard summaries.\u001b[0m\n",
      "\u001b[34m[2023-12-07 01:38:56.723 ip-10-2-98-94.ec2.internal:7 INFO profiler_config_parser.py:102] User has disabled profiler.\u001b[0m\n",
      "\u001b[34m[2023-12-07 01:38:56.724 ip-10-2-98-94.ec2.internal:7 INFO hook.py:255] Saving to /opt/ml/output/tensors\u001b[0m\n",
      "\u001b[34m[2023-12-07 01:38:56.724 ip-10-2-98-94.ec2.internal:7 INFO state_store.py:77] The checkpoint config file /opt/ml/input/config/checkpointconfig.json does not exist.\u001b[0m\n",
      "\u001b[34m[2023-12-07:01:38:56:INFO] Debug hook created from config\u001b[0m\n",
      "\u001b[34m[01:38:57] INFO: ../src/tree/updater_prune.cc:101: tree pruning end, 24 extra nodes, 8 pruned nodes, max_depth=5\u001b[0m\n",
      "\u001b[34m[0]#011train-error:0.06770#011validation-error:0.06854\u001b[0m\n",
      "\u001b[34m[2023-12-07 01:38:57.037 ip-10-2-98-94.ec2.internal:7 INFO hook.py:423] Monitoring the collections: metrics\u001b[0m\n",
      "\u001b[34m[2023-12-07 01:38:57.039 ip-10-2-98-94.ec2.internal:7 INFO hook.py:486] Hook is writing from the hook with pid: 7\u001b[0m\n",
      "\u001b[34m[01:38:57] INFO: ../src/tree/updater_prune.cc:101: tree pruning end, 28 extra nodes, 8 pruned nodes, max_depth=5\u001b[0m\n",
      "\u001b[34m[1]#011train-error:0.06705#011validation-error:0.06737\u001b[0m\n",
      "\u001b[34m[01:38:57] INFO: ../src/tree/updater_prune.cc:101: tree pruning end, 26 extra nodes, 18 pruned nodes, max_depth=5\u001b[0m\n",
      "\u001b[34m[2]#011train-error:0.06688#011validation-error:0.06715\u001b[0m\n",
      "\u001b[34m[01:38:57] INFO: ../src/tree/updater_prune.cc:101: tree pruning end, 34 extra nodes, 4 pruned nodes, max_depth=5\u001b[0m\n",
      "\u001b[34m[3]#011train-error:0.06694#011validation-error:0.06899\u001b[0m\n",
      "\u001b[34m[01:38:58] INFO: ../src/tree/updater_prune.cc:101: tree pruning end, 24 extra nodes, 20 pruned nodes, max_depth=5\u001b[0m\n",
      "\u001b[34m[4]#011train-error:0.06704#011validation-error:0.06812\u001b[0m\n",
      "\u001b[34m[01:38:58] INFO: ../src/tree/updater_prune.cc:101: tree pruning end, 28 extra nodes, 12 pruned nodes, max_depth=5\u001b[0m\n",
      "\u001b[34m[5]#011train-error:0.06694#011validation-error:0.06804\u001b[0m\n",
      "\u001b[34m[01:38:58] INFO: ../src/tree/updater_prune.cc:101: tree pruning end, 26 extra nodes, 20 pruned nodes, max_depth=5\u001b[0m\n",
      "\u001b[34m[6]#011train-error:0.06657#011validation-error:0.06733\u001b[0m\n",
      "\u001b[34m[01:38:58] INFO: ../src/tree/updater_prune.cc:101: tree pruning end, 26 extra nodes, 12 pruned nodes, max_depth=5\u001b[0m\n",
      "\u001b[34m[7]#011train-error:0.06654#011validation-error:0.06739\u001b[0m\n",
      "\u001b[34m[01:38:59] INFO: ../src/tree/updater_prune.cc:101: tree pruning end, 28 extra nodes, 8 pruned nodes, max_depth=5\u001b[0m\n",
      "\u001b[34m[8]#011train-error:0.06631#011validation-error:0.06765\u001b[0m\n",
      "\u001b[34m[01:38:59] INFO: ../src/tree/updater_prune.cc:101: tree pruning end, 30 extra nodes, 4 pruned nodes, max_depth=5\u001b[0m\n",
      "\u001b[34m[9]#011train-error:0.06624#011validation-error:0.06754\u001b[0m\n",
      "\u001b[34m[01:38:59] INFO: ../src/tree/updater_prune.cc:101: tree pruning end, 32 extra nodes, 4 pruned nodes, max_depth=5\u001b[0m\n",
      "\u001b[34m[10]#011train-error:0.06620#011validation-error:0.06743\u001b[0m\n",
      "\u001b[34m[01:38:59] INFO: ../src/tree/updater_prune.cc:101: tree pruning end, 32 extra nodes, 4 pruned nodes, max_depth=5\u001b[0m\n",
      "\u001b[34m[11]#011train-error:0.06635#011validation-error:0.06747\u001b[0m\n",
      "\u001b[34m[01:38:59] INFO: ../src/tree/updater_prune.cc:101: tree pruning end, 22 extra nodes, 22 pruned nodes, max_depth=5\u001b[0m\n",
      "\u001b[34m[12]#011train-error:0.06631#011validation-error:0.06755\u001b[0m\n",
      "\u001b[34m[01:39:00] INFO: ../src/tree/updater_prune.cc:101: tree pruning end, 22 extra nodes, 24 pruned nodes, max_depth=5\u001b[0m\n",
      "\u001b[34m[13]#011train-error:0.06701#011validation-error:0.06899\u001b[0m\n",
      "\u001b[34m[01:39:00] INFO: ../src/tree/updater_prune.cc:101: tree pruning end, 28 extra nodes, 22 pruned nodes, max_depth=5\u001b[0m\n",
      "\u001b[34m[14]#011train-error:0.06662#011validation-error:0.06937\u001b[0m\n",
      "\u001b[34m[01:39:00] INFO: ../src/tree/updater_prune.cc:101: tree pruning end, 24 extra nodes, 22 pruned nodes, max_depth=5\u001b[0m\n",
      "\u001b[34m[15]#011train-error:0.06664#011validation-error:0.06940\u001b[0m\n",
      "\n",
      "2023-12-07 01:39:12 Uploading - Uploading generated training model\u001b[34m[01:39:00] INFO: ../src/tree/updater_prune.cc:101: tree pruning end, 30 extra nodes, 14 pruned nodes, max_depth=5\u001b[0m\n",
      "\u001b[34m[16]#011train-error:0.06674#011validation-error:0.06903\u001b[0m\n",
      "\u001b[34m[01:39:00] INFO: ../src/tree/updater_prune.cc:101: tree pruning end, 30 extra nodes, 4 pruned nodes, max_depth=5\u001b[0m\n",
      "\u001b[34m[17]#011train-error:0.06669#011validation-error:0.06923\u001b[0m\n",
      "\u001b[34m[01:39:01] INFO: ../src/tree/updater_prune.cc:101: tree pruning end, 24 extra nodes, 10 pruned nodes, max_depth=5\u001b[0m\n",
      "\u001b[34m[18]#011train-error:0.06663#011validation-error:0.06877\u001b[0m\n",
      "\u001b[34m[01:39:01] INFO: ../src/tree/updater_prune.cc:101: tree pruning end, 34 extra nodes, 10 pruned nodes, max_depth=5\u001b[0m\n",
      "\u001b[34m[19]#011train-error:0.06654#011validation-error:0.06878\u001b[0m\n",
      "\u001b[34m[01:39:01] INFO: ../src/tree/updater_prune.cc:101: tree pruning end, 26 extra nodes, 8 pruned nodes, max_depth=5\u001b[0m\n",
      "\u001b[34m[20]#011train-error:0.06641#011validation-error:0.06903\u001b[0m\n",
      "\u001b[34m[01:39:02] INFO: ../src/tree/updater_prune.cc:101: tree pruning end, 24 extra nodes, 14 pruned nodes, max_depth=5\u001b[0m\n",
      "\u001b[34m[21]#011train-error:0.06621#011validation-error:0.06889\u001b[0m\n",
      "\u001b[34m[01:39:02] INFO: ../src/tree/updater_prune.cc:101: tree pruning end, 28 extra nodes, 2 pruned nodes, max_depth=5\u001b[0m\n",
      "\u001b[34m[22]#011train-error:0.06633#011validation-error:0.06893\u001b[0m\n",
      "\u001b[34m[01:39:02] INFO: ../src/tree/updater_prune.cc:101: tree pruning end, 36 extra nodes, 2 pruned nodes, max_depth=5\u001b[0m\n",
      "\u001b[34m[23]#011train-error:0.06640#011validation-error:0.06917\u001b[0m\n",
      "\u001b[34m[01:39:03] INFO: ../src/tree/updater_prune.cc:101: tree pruning end, 28 extra nodes, 10 pruned nodes, max_depth=5\u001b[0m\n",
      "\u001b[34m[24]#011train-error:0.06608#011validation-error:0.06874\u001b[0m\n",
      "\u001b[34m[01:39:03] INFO: ../src/tree/updater_prune.cc:101: tree pruning end, 26 extra nodes, 6 pruned nodes, max_depth=5\u001b[0m\n",
      "\u001b[34m[25]#011train-error:0.06606#011validation-error:0.06871\u001b[0m\n",
      "\u001b[34m[01:39:03] INFO: ../src/tree/updater_prune.cc:101: tree pruning end, 10 extra nodes, 28 pruned nodes, max_depth=5\u001b[0m\n",
      "\u001b[34m[26]#011train-error:0.06595#011validation-error:0.06853\u001b[0m\n",
      "\u001b[34m[01:39:04] INFO: ../src/tree/updater_prune.cc:101: tree pruning end, 26 extra nodes, 24 pruned nodes, max_depth=5\u001b[0m\n",
      "\u001b[34m[27]#011train-error:0.06592#011validation-error:0.06835\u001b[0m\n",
      "\u001b[34m[01:39:04] INFO: ../src/tree/updater_prune.cc:101: tree pruning end, 14 extra nodes, 4 pruned nodes, max_depth=5\u001b[0m\n",
      "\u001b[34m[28]#011train-error:0.06592#011validation-error:0.06825\u001b[0m\n",
      "\u001b[34m[01:39:04] INFO: ../src/tree/updater_prune.cc:101: tree pruning end, 16 extra nodes, 22 pruned nodes, max_depth=5\u001b[0m\n",
      "\u001b[34m[29]#011train-error:0.06587#011validation-error:0.06815\u001b[0m\n",
      "\u001b[34m[01:39:04] INFO: ../src/tree/updater_prune.cc:101: tree pruning end, 0 extra nodes, 36 pruned nodes, max_depth=0\u001b[0m\n",
      "\u001b[34m[30]#011train-error:0.06573#011validation-error:0.06810\u001b[0m\n",
      "\u001b[34m[01:39:05] INFO: ../src/tree/updater_prune.cc:101: tree pruning end, 24 extra nodes, 12 pruned nodes, max_depth=5\u001b[0m\n",
      "\u001b[34m[31]#011train-error:0.06581#011validation-error:0.06815\u001b[0m\n",
      "\u001b[34m[01:39:05] INFO: ../src/tree/updater_prune.cc:101: tree pruning end, 0 extra nodes, 32 pruned nodes, max_depth=0\u001b[0m\n",
      "\u001b[34m[32]#011train-error:0.06577#011validation-error:0.06807\u001b[0m\n",
      "\u001b[34m[01:39:05] INFO: ../src/tree/updater_prune.cc:101: tree pruning end, 40 extra nodes, 12 pruned nodes, max_depth=5\u001b[0m\n",
      "\u001b[34m[33]#011train-error:0.06579#011validation-error:0.06798\u001b[0m\n",
      "\u001b[34m[01:39:05] INFO: ../src/tree/updater_prune.cc:101: tree pruning end, 28 extra nodes, 16 pruned nodes, max_depth=5\u001b[0m\n",
      "\u001b[34m[34]#011train-error:0.06555#011validation-error:0.06825\u001b[0m\n",
      "\u001b[34m[01:39:05] INFO: ../src/tree/updater_prune.cc:101: tree pruning end, 26 extra nodes, 18 pruned nodes, max_depth=5\u001b[0m\n",
      "\u001b[34m[35]#011train-error:0.06576#011validation-error:0.06838\u001b[0m\n",
      "\u001b[34m[01:39:06] INFO: ../src/tree/updater_prune.cc:101: tree pruning end, 8 extra nodes, 14 pruned nodes, max_depth=4\u001b[0m\n",
      "\u001b[34m[36]#011train-error:0.06568#011validation-error:0.06839\u001b[0m\n",
      "\u001b[34m[01:39:06] INFO: ../src/tree/updater_prune.cc:101: tree pruning end, 0 extra nodes, 26 pruned nodes, max_depth=0\u001b[0m\n",
      "\u001b[34m[37]#011train-error:0.06568#011validation-error:0.06839\u001b[0m\n",
      "\u001b[34m[01:39:06] INFO: ../src/tree/updater_prune.cc:101: tree pruning end, 10 extra nodes, 16 pruned nodes, max_depth=5\u001b[0m\n",
      "\u001b[34m[38]#011train-error:0.06567#011validation-error:0.06822\u001b[0m\n",
      "\u001b[34m[01:39:06] INFO: ../src/tree/updater_prune.cc:101: tree pruning end, 8 extra nodes, 30 pruned nodes, max_depth=4\u001b[0m\n",
      "\u001b[34m[39]#011train-error:0.06552#011validation-error:0.06827\u001b[0m\n",
      "\u001b[34m[01:39:06] INFO: ../src/tree/updater_prune.cc:101: tree pruning end, 12 extra nodes, 18 pruned nodes, max_depth=4\u001b[0m\n",
      "\u001b[34m[40]#011train-error:0.06541#011validation-error:0.06860\u001b[0m\n",
      "\u001b[34m[01:39:06] INFO: ../src/tree/updater_prune.cc:101: tree pruning end, 8 extra nodes, 12 pruned nodes, max_depth=4\u001b[0m\n",
      "\u001b[34m[41]#011train-error:0.06546#011validation-error:0.06843\u001b[0m\n",
      "\u001b[34m[01:39:07] INFO: ../src/tree/updater_prune.cc:101: tree pruning end, 22 extra nodes, 14 pruned nodes, max_depth=5\u001b[0m\n",
      "\u001b[34m[42]#011train-error:0.06520#011validation-error:0.06844\u001b[0m\n",
      "\u001b[34m[01:39:07] INFO: ../src/tree/updater_prune.cc:101: tree pruning end, 22 extra nodes, 10 pruned nodes, max_depth=5\u001b[0m\n",
      "\u001b[34m[43]#011train-error:0.06518#011validation-error:0.06843\u001b[0m\n",
      "\u001b[34m[01:39:07] INFO: ../src/tree/updater_prune.cc:101: tree pruning end, 12 extra nodes, 34 pruned nodes, max_depth=5\u001b[0m\n",
      "\u001b[34m[44]#011train-error:0.06512#011validation-error:0.06854\u001b[0m\n",
      "\u001b[34m[01:39:07] INFO: ../src/tree/updater_prune.cc:101: tree pruning end, 0 extra nodes, 32 pruned nodes, max_depth=0\u001b[0m\n",
      "\u001b[34m[45]#011train-error:0.06511#011validation-error:0.06843\u001b[0m\n",
      "\u001b[34m[01:39:07] INFO: ../src/tree/updater_prune.cc:101: tree pruning end, 24 extra nodes, 26 pruned nodes, max_depth=5\u001b[0m\n",
      "\u001b[34m[46]#011train-error:0.06495#011validation-error:0.06859\u001b[0m\n",
      "\u001b[34m[01:39:07] INFO: ../src/tree/updater_prune.cc:101: tree pruning end, 14 extra nodes, 10 pruned nodes, max_depth=5\u001b[0m\n",
      "\u001b[34m[47]#011train-error:0.06486#011validation-error:0.06868\u001b[0m\n",
      "\u001b[34m[01:39:08] INFO: ../src/tree/updater_prune.cc:101: tree pruning end, 6 extra nodes, 20 pruned nodes, max_depth=3\u001b[0m\n",
      "\u001b[34m[48]#011train-error:0.06486#011validation-error:0.06862\u001b[0m\n",
      "\u001b[34m[01:39:08] INFO: ../src/tree/updater_prune.cc:101: tree pruning end, 12 extra nodes, 26 pruned nodes, max_depth=5\u001b[0m\n",
      "\u001b[34m[49]#011train-error:0.06479#011validation-error:0.06862\u001b[0m\n",
      "\n",
      "2023-12-07 01:39:23 Completed - Training job completed\n",
      "Training seconds: 159\n",
      "Billable seconds: 159\n"
     ]
    }
   ],
   "source": [
    "container = sagemaker.image_uris.retrieve('xgboost', region, version='1.2-2')\n",
    "\n",
    "xgb = sagemaker.estimator.Estimator(container,\n",
    "                                    role, \n",
    "                                    instance_count=1, \n",
    "                                    instance_type='ml.m4.xlarge',\n",
    "                                    output_path='s3://{}/{}/output'.format(default_bucket, prefix),\n",
    "                                    sagemaker_session=sagemaker_session)\n",
    "\n",
    "xgb.set_hyperparameters(\n",
    "    max_depth= 5,\n",
    "    eta= 0.2,\n",
    "    gamma= 4,\n",
    "    min_child_weight= 6,\n",
    "    subsample= 0.7,\n",
    "    objective= 'binary:logistic',\n",
    "    num_round= 50,\n",
    "    verbosity= 2\n",
    ")\n",
    "\n",
    "xgb.fit({'train': s3_input_train, 'validation': s3_input_validation})"
   ]
  },
  {
   "cell_type": "code",
   "execution_count": 54,
   "id": "bf0eb036-de29-4574-89c9-f76dfb5a9752",
   "metadata": {
    "tags": []
   },
   "outputs": [
    {
     "name": "stderr",
     "output_type": "stream",
     "text": [
      "INFO:sagemaker:Creating model with name: sagemaker-xgboost-2023-12-07-01-40-12-968\n",
      "INFO:sagemaker:Creating endpoint-config with name clickstreamrec-ranking-model-12-07-01-18\n",
      "INFO:sagemaker:Creating endpoint with name clickstreamrec-ranking-model-12-07-01-18\n"
     ]
    },
    {
     "name": "stdout",
     "output_type": "stream",
     "text": [
      "Ranking model endpoint name: clickstreamrec-ranking-model-12-07-01-18\n"
     ]
    }
   ],
   "source": [
    "xgb_predictor = xgb.deploy(\n",
    "    endpoint_name = ranking_model_endpoint_name,\n",
    "    initial_instance_count = 1,\n",
    "    instance_type = 'ml.m4.xlarge',\n",
    "    serializer = CSVSerializer(),\n",
    "    wait=False\n",
    ")"
   ]
  },
  {
   "cell_type": "code",
   "execution_count": 56,
   "id": "a5785ee9-6f02-483c-a7f5-c0629a5764ed",
   "metadata": {
    "tags": []
   },
   "outputs": [],
   "source": [
    "def top_rated_products_by_customer_state(customer_id, top_n):\n",
    "    record = featurestore_runtime.get_record(FeatureGroupName=customers_feature_group_name,\n",
    "                                             RecordIdentifierValueAsString=customer_id,\n",
    "                                             FeatureNames=['state', 'is_married', 'age'])\n",
    "    other_customer_features = {}\n",
    "    for feature in record['Record']:\n",
    "        other_customer_features[feature['FeatureName']] = feature['ValueAsString']\n",
    " \n",
    "    state = other_customer_features['state']\n",
    "    df_cf_features_by_state = df_cf_features[df_cf_features['state'] == state]\n",
    " \n",
    "    popular_items = df_cf_features_by_state.groupby([\"product_id\", \"product_name\"])['rating'].agg('mean').sort_values(ascending=False).reset_index()\n",
    "    for k, v in other_customer_features.items():\n",
    "        popular_items[k] = v\n",
    "    popular_items['customer_id'] = customer_id\n",
    "    top_n_popular_items = popular_items.iloc[0:top_n]\n",
    "    top_n_popular_items = top_n_popular_items[df_cf_features.columns]\n",
    "    del top_n_popular_items['rating']\n",
    "    return top_n_popular_items"
   ]
  },
  {
   "cell_type": "code",
   "execution_count": 65,
   "id": "4600a96f-df86-40c4-b060-3454dbb52954",
   "metadata": {
    "tags": []
   },
   "outputs": [],
   "source": [
    "featurestore_runtime = boto3.client(service_name='sagemaker-featurestore-runtime',\n",
    "                                    region_name=region)\n",
    "kinesis_analytics_application_name = f'fs-click-stream-application'\n",
    "kinesis_stream_name = f'fs-click-stream-activity'\n",
    "kinesis_analytics_application_name = f'fs-click-stream-application'\n",
    "lambda_name = f'click-stream-aggregator-lambda'\n",
    "n_range = 6"
   ]
  },
  {
   "cell_type": "code",
   "execution_count": 195,
   "id": "730d469f-7f59-4a89-a163-bffd96316f4e",
   "metadata": {
    "tags": []
   },
   "outputs": [
    {
     "name": "stdout",
     "output_type": "stream",
     "text": [
      "Waiting for the Kinesis stream to become active...\n",
      "ACTIVE\n"
     ]
    }
   ],
   "source": [
    "kinesis_client = boto3.client('kinesis')\n",
    "kinesis_client.create_stream(StreamName=kinesis_stream_name, ShardCount=1)\n",
    "\n",
    "active_stream = False\n",
    "while not active_stream:\n",
    "    status = kinesis_client.describe_stream(StreamName=kinesis_stream_name)['StreamDescription']['StreamStatus']\n",
    "    if (status == 'CREATING'):\n",
    "        print('Waiting for the Kinesis stream to become active...')\n",
    "        time.sleep(20)  \n",
    "    elif (status == 'ACTIVE'): \n",
    "        active_stream = True\n",
    "        print('ACTIVE')"
   ]
  },
  {
   "cell_type": "code",
   "execution_count": 198,
   "id": "21ca951b-b603-4495-98cf-6a1cf6329657",
   "metadata": {
    "tags": []
   },
   "outputs": [
    {
     "name": "stdout",
     "output_type": "stream",
     "text": [
      "Waiting for the Kinesis stream to become active...\n",
      "ACTIVE\n",
      "Amazon kinesis stream arn: arn:aws:kinesis:us-east-1:205825199765:stream/fs-out-stream\n"
     ]
    }
   ],
   "source": [
    "kinesis_client = boto3.client('kinesis')\n",
    "kinesis_output_stream_name = 'fs-out-stream'\n",
    "kinesis_client.create_stream(StreamName=kinesis_output_stream_name, ShardCount=1)\n",
    "\n",
    "active_stream = False\n",
    "while not active_stream:\n",
    "    status = kinesis_client.describe_stream(StreamName=kinesis_output_stream_name)['StreamDescription']['StreamStatus']\n",
    "    if (status == 'CREATING'):\n",
    "        print('Waiting for the Kinesis stream to become active...')\n",
    "        time.sleep(20)  \n",
    "    elif (status == 'ACTIVE'): \n",
    "        active_stream = True\n",
    "        print('ACTIVE')\n",
    "output_stream_arn = kinesis_client.describe_stream(StreamName=kinesis_output_stream_name)['StreamDescription']['StreamARN']\n",
    "print(f'Amazon kinesis stream arn: {output_stream_arn}')"
   ]
  },
  {
   "cell_type": "code",
   "execution_count": 196,
   "id": "f2c8cad7-24aa-4d9e-8984-f972c6c04ddd",
   "metadata": {
    "tags": []
   },
   "outputs": [
    {
     "name": "stdout",
     "output_type": "stream",
     "text": [
      "Amazon kinesis stream arn: arn:aws:kinesis:us-east-1:205825199765:stream/fs-click-stream-activity\n"
     ]
    }
   ],
   "source": [
    "stream_arn = kinesis_client.describe_stream(StreamName=kinesis_stream_name)['StreamDescription']['StreamARN']\n",
    "print(f'Amazon kinesis stream arn: {stream_arn}')"
   ]
  },
  {
   "cell_type": "code",
   "execution_count": 71,
   "id": "59227334-22d6-4e19-8625-9f0113fb95ee",
   "metadata": {
    "tags": []
   },
   "outputs": [],
   "source": [
    "kda_client = boto3.client('kinesisanalytics')"
   ]
  },
  {
   "cell_type": "code",
   "execution_count": 154,
   "id": "dfde8fc9-ec17-4bde-ab93-7c61abb57281",
   "metadata": {
    "tags": []
   },
   "outputs": [],
   "source": [
    "sql_code = '''\n",
    "CREATE OR REPLACE STREAM \"DESTINATION_SQL_STREAM\" (\n",
    "  customer_id VARCHAR(8), \n",
    "  sum_activity_weight_last_2m INTEGER, \n",
    "  avg_product_health_index_last_2m DOUBLE\n",
    ");\n",
    "CREATE OR REPLACE PUMP \"STREAM_PUMP\" AS INSERT INTO \"DESTINATION_SQL_STREAM\" \n",
    "SELECT \n",
    "  STREAM CUSTOMER_ID, \n",
    "  SUM(ACTIVITY_WEIGHT) AS sum_activity_weight_last_2m, \n",
    "  AVG(PRODUCT_HEALTH_INDEX) AS avg_product_health_index_last_2m\n",
    "FROM \n",
    "  \"SOURCE_SQL_STREAM_001\" \n",
    "WINDOWED BY STAGGER (\n",
    "    PARTITION BY CUSTOMER_ID RANGE INTERVAL \\'2\\' MINUTE);\n",
    "'''"
   ]
  },
  {
   "cell_type": "code",
   "execution_count": 199,
   "id": "a35ef9aa-8286-4692-9b1b-ea6f8d3b13b1",
   "metadata": {
    "tags": []
   },
   "outputs": [],
   "source": [
    "kda_input_schema = [{\n",
    "                'NamePrefix': 'SOURCE_SQL_STREAM',\n",
    "                'KinesisStreamsInput': {\n",
    "                       'ResourceARN': stream_arn,\n",
    "                       'RoleARN': role\n",
    "                },\n",
    "                'InputSchema': {\n",
    "                      'RecordFormat': {\n",
    "                          'RecordFormatType': 'JSON',\n",
    "                          'MappingParameters': {\n",
    "                              'JSONMappingParameters': {\n",
    "                                  'RecordRowPath': '$'\n",
    "                              }\n",
    "                          },\n",
    "                      },\n",
    "                      'RecordEncoding': 'UTF-8',\n",
    "                      'RecordColumns': [\n",
    "                          {'Name': 'EVENT_TIME',  'Mapping': '$.event_time',   'SqlType': 'TIMESTAMP'},\n",
    "                          {'Name': 'CUSTOMER_ID','Mapping': '$.customer_id', 'SqlType': 'VARCHAR(8)'},\n",
    "                          {'Name': 'PRODUCT_ID', 'Mapping': '$.product_id', 'SqlType': 'VARCHAR(8)'},\n",
    "                          {'Name': 'PRODUCT_CATEGORY', 'Mapping': '$.product_category', 'SqlType': 'VARCHAR(20)'},\n",
    "                          {'Name': 'HEALTH_CATEGORY', 'Mapping': '$.health_category', 'SqlType': 'VARCHAR(10)'},\n",
    "                          {'Name': 'ACTIVITY_TYPE', 'Mapping': '$.activity_type', 'SqlType': 'VARCHAR(10)'},\n",
    "                          {'Name': 'ACTIVITY_WEIGHT', 'Mapping': '$.activity_weight', 'SqlType': 'INTEGER'},\n",
    "                          {'Name': 'PRODUCT_HEALTH_INDEX', 'Mapping': '$.product_health_index', 'SqlType': 'DOUBLE'}\n",
    "                      ]\n",
    "                }\n",
    "              }                         \n",
    "            ]"
   ]
  },
  {
   "cell_type": "code",
   "execution_count": 78,
   "id": "49369bfc-77df-4524-8023-c95f992a86fe",
   "metadata": {
    "tags": []
   },
   "outputs": [
    {
     "name": "stdout",
     "output_type": "stream",
     "text": [
      "sagemaker.config INFO - Not applying SDK defaults from location: /etc/xdg/sagemaker/config.yaml\n",
      "sagemaker.config INFO - Not applying SDK defaults from location: /root/.config/sagemaker/config.yaml\n",
      "Lambda function arn: arn:aws:lambda:us-east-1:205825199765:function:click-stream-aggregator-lambda\n"
     ]
    }
   ],
   "source": [
    "lambda_function = Lambda(\n",
    "    function_name=lambda_name,\n",
    "    execution_role_arn=role,\n",
    "    script=\"lambda_stream.py\",\n",
    "    handler=\"lambda_stream.lambda_handler\",\n",
    "    timeout=600,\n",
    "    memory_size=10240,\n",
    ")\n",
    "\n",
    "lambda_function_response = lambda_function.create()\n",
    "lambda_function_arn = lambda_function_response['FunctionArn']\n",
    "\n",
    "print(f'Lambda function arn: {lambda_function_arn}')"
   ]
  },
  {
   "cell_type": "code",
   "execution_count": 79,
   "id": "637b111a-d446-4651-9fed-e44d89f93b95",
   "metadata": {
    "tags": []
   },
   "outputs": [
    {
     "data": {
      "text/plain": [
       "{'ResponseMetadata': {'RequestId': '841c9e1b-e41b-4765-9c0a-cb699c120f47',\n",
       "  'HTTPStatusCode': 200,\n",
       "  'HTTPHeaders': {'date': 'Thu, 07 Dec 2023 03:08:36 GMT',\n",
       "   'content-type': 'application/json',\n",
       "   'content-length': '1529',\n",
       "   'connection': 'keep-alive',\n",
       "   'x-amzn-requestid': '841c9e1b-e41b-4765-9c0a-cb699c120f47'},\n",
       "  'RetryAttempts': 0},\n",
       " 'FunctionName': 'click-stream-aggregator-lambda',\n",
       " 'FunctionArn': 'arn:aws:lambda:us-east-1:205825199765:function:click-stream-aggregator-lambda',\n",
       " 'Runtime': 'python3.8',\n",
       " 'Role': 'arn:aws:iam::205825199765:role/service-role/AmazonSageMaker-ExecutionRole-20230914T164936',\n",
       " 'Handler': 'lambda_stream.lambda_handler',\n",
       " 'CodeSize': 2542,\n",
       " 'Description': '',\n",
       " 'Timeout': 600,\n",
       " 'MemorySize': 10240,\n",
       " 'LastModified': '2023-12-07T03:08:36.000+0000',\n",
       " 'CodeSha256': '7IYASAR3aHQm3lfO+5GmWJP9rdZ9XYYK4IB93aNY6Fs=',\n",
       " 'Version': '$LATEST',\n",
       " 'Environment': {'Variables': {'click_stream_feature_group_name': 'clickstreamrec-click-stream-fg-12-07-00-51'}},\n",
       " 'TracingConfig': {'Mode': 'PassThrough'},\n",
       " 'RevisionId': '0fb351e6-ce15-49a2-ab8c-b4264a015fcb',\n",
       " 'Layers': [],\n",
       " 'State': 'Active',\n",
       " 'LastUpdateStatus': 'InProgress',\n",
       " 'LastUpdateStatusReason': 'The function is being created.',\n",
       " 'LastUpdateStatusReasonCode': 'Creating',\n",
       " 'PackageType': 'Zip',\n",
       " 'Architectures': ['x86_64'],\n",
       " 'EphemeralStorage': {'Size': 512},\n",
       " 'SnapStart': {'ApplyOn': 'None', 'OptimizationStatus': 'Off'},\n",
       " 'RuntimeVersionConfig': {'RuntimeVersionArn': 'arn:aws:lambda:us-east-1::runtime:353a31d9fb2c7cac8474d278a6cf08824c7f87f698d61d1df2c128fc25a48d43'}}"
      ]
     },
     "execution_count": 79,
     "metadata": {},
     "output_type": "execute_result"
    }
   ],
   "source": [
    "lambda_client = boto3.client('lambda')\n",
    "lambda_client.update_function_configuration(FunctionName=lambda_name,\n",
    "                                            Environment={\n",
    "                                                'Variables': {\n",
    "                                                    'click_stream_feature_group_name': click_stream_feature_group_name\n",
    "                                                }\n",
    "                                            })"
   ]
  },
  {
   "cell_type": "code",
   "execution_count": 200,
   "id": "5ba73a3d-7d0c-4c7b-a319-7da995c30fd5",
   "metadata": {
    "tags": []
   },
   "outputs": [
    {
     "name": "stdout",
     "output_type": "stream",
     "text": [
      "KDA output schema: [{'KinesisStreamsOutput': {'ResourceARN': 'arn:aws:kinesis:us-east-1:205825199765:stream/fs-out-stream', 'RoleARN': 'arn:aws:iam::205825199765:role/service-role/AmazonSageMaker-ExecutionRole-20230914T164936'}, 'Name': 'DESTINATION_SQL_STREAM', 'DestinationSchema': {'RecordFormatType': 'JSON'}}]\n"
     ]
    }
   ],
   "source": [
    "kda_output_schema = [{'KinesisStreamsOutput': {\n",
    "                       'ResourceARN': output_stream_arn,\n",
    "                       'RoleARN': role\n",
    "                },\n",
    "                      'Name': 'DESTINATION_SQL_STREAM',\n",
    "                      'DestinationSchema': {'RecordFormatType': 'JSON'}}]\n",
    "print(f'KDA output schema: {kda_output_schema}')"
   ]
  },
  {
   "cell_type": "code",
   "execution_count": 201,
   "id": "21153689-acfa-4e07-bfed-5898651e65f0",
   "metadata": {
    "tags": []
   },
   "outputs": [
    {
     "name": "stdout",
     "output_type": "stream",
     "text": [
      "Kinesis Analytics Application created\n"
     ]
    }
   ],
   "source": [
    "is_app_created = False\n",
    "while not is_app_created:\n",
    "    response = kda_client.create_application(ApplicationName=kinesis_analytics_application_name, \n",
    "                              Inputs=kda_input_schema,\n",
    "                              Outputs=kda_output_schema,\n",
    "                              ApplicationCode=sql_code)\n",
    "    status = response['ApplicationSummary']['ApplicationStatus']\n",
    "    if (status != 'READY'):\n",
    "        print('Waiting on Kinesis Analytics Application to be READY')\n",
    "        time.sleep(20)  \n",
    "    elif (status == 'READY'): \n",
    "        is_app_created = True\n",
    "        print('Kinesis Analytics Application created')"
   ]
  },
  {
   "cell_type": "code",
   "execution_count": 202,
   "id": "5f18bc96-680a-4d79-9f74-c6c044f4f1d8",
   "metadata": {
    "tags": []
   },
   "outputs": [
    {
     "data": {
      "text/plain": [
       "{'ResponseMetadata': {'RequestId': '5a24a7c2-8533-42b2-9698-82df68478698',\n",
       "  'HTTPStatusCode': 200,\n",
       "  'HTTPHeaders': {'x-amzn-requestid': '5a24a7c2-8533-42b2-9698-82df68478698',\n",
       "   'content-type': 'application/x-amz-json-1.1',\n",
       "   'content-length': '2',\n",
       "   'date': 'Fri, 08 Dec 2023 05:09:56 GMT'},\n",
       "  'RetryAttempts': 0}}"
      ]
     },
     "execution_count": 202,
     "metadata": {},
     "output_type": "execute_result"
    }
   ],
   "source": [
    "kda_client.start_application(ApplicationName=kinesis_analytics_application_name,\n",
    "                             InputConfigurations=[{'Id': '1.1',\n",
    "                                                   'InputStartingPositionConfiguration': \n",
    "                                                     {'InputStartingPosition':'NOW'}}])"
   ]
  },
  {
   "cell_type": "code",
   "execution_count": 203,
   "id": "a7e53546-db1c-461b-9664-ee22c8d9966a",
   "metadata": {
    "tags": []
   },
   "outputs": [
    {
     "name": "stdout",
     "output_type": "stream",
     "text": [
      "Waiting for the Kinesis Application to be in RUNNING state...\n",
      "RUNNING\n"
     ]
    }
   ],
   "source": [
    "running_app = False\n",
    "while not running_app:\n",
    "    status = kda_client.describe_application(ApplicationName=kinesis_analytics_application_name)['ApplicationDetail']['ApplicationStatus']\n",
    "    if (status != 'RUNNING'):\n",
    "        print('Waiting for the Kinesis Application to be in RUNNING state...')\n",
    "        time.sleep(20) \n",
    "    elif (status == 'RUNNING'): \n",
    "        running_app = True\n",
    "        print('RUNNING')"
   ]
  }
 ],
 "metadata": {
  "availableInstances": [
   {
    "_defaultOrder": 0,
    "_isFastLaunch": true,
    "category": "General purpose",
    "gpuNum": 0,
    "hideHardwareSpecs": false,
    "memoryGiB": 4,
    "name": "ml.t3.medium",
    "vcpuNum": 2
   },
   {
    "_defaultOrder": 1,
    "_isFastLaunch": false,
    "category": "General purpose",
    "gpuNum": 0,
    "hideHardwareSpecs": false,
    "memoryGiB": 8,
    "name": "ml.t3.large",
    "vcpuNum": 2
   },
   {
    "_defaultOrder": 2,
    "_isFastLaunch": false,
    "category": "General purpose",
    "gpuNum": 0,
    "hideHardwareSpecs": false,
    "memoryGiB": 16,
    "name": "ml.t3.xlarge",
    "vcpuNum": 4
   },
   {
    "_defaultOrder": 3,
    "_isFastLaunch": false,
    "category": "General purpose",
    "gpuNum": 0,
    "hideHardwareSpecs": false,
    "memoryGiB": 32,
    "name": "ml.t3.2xlarge",
    "vcpuNum": 8
   },
   {
    "_defaultOrder": 4,
    "_isFastLaunch": true,
    "category": "General purpose",
    "gpuNum": 0,
    "hideHardwareSpecs": false,
    "memoryGiB": 8,
    "name": "ml.m5.large",
    "vcpuNum": 2
   },
   {
    "_defaultOrder": 5,
    "_isFastLaunch": false,
    "category": "General purpose",
    "gpuNum": 0,
    "hideHardwareSpecs": false,
    "memoryGiB": 16,
    "name": "ml.m5.xlarge",
    "vcpuNum": 4
   },
   {
    "_defaultOrder": 6,
    "_isFastLaunch": false,
    "category": "General purpose",
    "gpuNum": 0,
    "hideHardwareSpecs": false,
    "memoryGiB": 32,
    "name": "ml.m5.2xlarge",
    "vcpuNum": 8
   },
   {
    "_defaultOrder": 7,
    "_isFastLaunch": false,
    "category": "General purpose",
    "gpuNum": 0,
    "hideHardwareSpecs": false,
    "memoryGiB": 64,
    "name": "ml.m5.4xlarge",
    "vcpuNum": 16
   },
   {
    "_defaultOrder": 8,
    "_isFastLaunch": false,
    "category": "General purpose",
    "gpuNum": 0,
    "hideHardwareSpecs": false,
    "memoryGiB": 128,
    "name": "ml.m5.8xlarge",
    "vcpuNum": 32
   },
   {
    "_defaultOrder": 9,
    "_isFastLaunch": false,
    "category": "General purpose",
    "gpuNum": 0,
    "hideHardwareSpecs": false,
    "memoryGiB": 192,
    "name": "ml.m5.12xlarge",
    "vcpuNum": 48
   },
   {
    "_defaultOrder": 10,
    "_isFastLaunch": false,
    "category": "General purpose",
    "gpuNum": 0,
    "hideHardwareSpecs": false,
    "memoryGiB": 256,
    "name": "ml.m5.16xlarge",
    "vcpuNum": 64
   },
   {
    "_defaultOrder": 11,
    "_isFastLaunch": false,
    "category": "General purpose",
    "gpuNum": 0,
    "hideHardwareSpecs": false,
    "memoryGiB": 384,
    "name": "ml.m5.24xlarge",
    "vcpuNum": 96
   },
   {
    "_defaultOrder": 12,
    "_isFastLaunch": false,
    "category": "General purpose",
    "gpuNum": 0,
    "hideHardwareSpecs": false,
    "memoryGiB": 8,
    "name": "ml.m5d.large",
    "vcpuNum": 2
   },
   {
    "_defaultOrder": 13,
    "_isFastLaunch": false,
    "category": "General purpose",
    "gpuNum": 0,
    "hideHardwareSpecs": false,
    "memoryGiB": 16,
    "name": "ml.m5d.xlarge",
    "vcpuNum": 4
   },
   {
    "_defaultOrder": 14,
    "_isFastLaunch": false,
    "category": "General purpose",
    "gpuNum": 0,
    "hideHardwareSpecs": false,
    "memoryGiB": 32,
    "name": "ml.m5d.2xlarge",
    "vcpuNum": 8
   },
   {
    "_defaultOrder": 15,
    "_isFastLaunch": false,
    "category": "General purpose",
    "gpuNum": 0,
    "hideHardwareSpecs": false,
    "memoryGiB": 64,
    "name": "ml.m5d.4xlarge",
    "vcpuNum": 16
   },
   {
    "_defaultOrder": 16,
    "_isFastLaunch": false,
    "category": "General purpose",
    "gpuNum": 0,
    "hideHardwareSpecs": false,
    "memoryGiB": 128,
    "name": "ml.m5d.8xlarge",
    "vcpuNum": 32
   },
   {
    "_defaultOrder": 17,
    "_isFastLaunch": false,
    "category": "General purpose",
    "gpuNum": 0,
    "hideHardwareSpecs": false,
    "memoryGiB": 192,
    "name": "ml.m5d.12xlarge",
    "vcpuNum": 48
   },
   {
    "_defaultOrder": 18,
    "_isFastLaunch": false,
    "category": "General purpose",
    "gpuNum": 0,
    "hideHardwareSpecs": false,
    "memoryGiB": 256,
    "name": "ml.m5d.16xlarge",
    "vcpuNum": 64
   },
   {
    "_defaultOrder": 19,
    "_isFastLaunch": false,
    "category": "General purpose",
    "gpuNum": 0,
    "hideHardwareSpecs": false,
    "memoryGiB": 384,
    "name": "ml.m5d.24xlarge",
    "vcpuNum": 96
   },
   {
    "_defaultOrder": 20,
    "_isFastLaunch": false,
    "category": "General purpose",
    "gpuNum": 0,
    "hideHardwareSpecs": true,
    "memoryGiB": 0,
    "name": "ml.geospatial.interactive",
    "supportedImageNames": [
     "sagemaker-geospatial-v1-0"
    ],
    "vcpuNum": 0
   },
   {
    "_defaultOrder": 21,
    "_isFastLaunch": true,
    "category": "Compute optimized",
    "gpuNum": 0,
    "hideHardwareSpecs": false,
    "memoryGiB": 4,
    "name": "ml.c5.large",
    "vcpuNum": 2
   },
   {
    "_defaultOrder": 22,
    "_isFastLaunch": false,
    "category": "Compute optimized",
    "gpuNum": 0,
    "hideHardwareSpecs": false,
    "memoryGiB": 8,
    "name": "ml.c5.xlarge",
    "vcpuNum": 4
   },
   {
    "_defaultOrder": 23,
    "_isFastLaunch": false,
    "category": "Compute optimized",
    "gpuNum": 0,
    "hideHardwareSpecs": false,
    "memoryGiB": 16,
    "name": "ml.c5.2xlarge",
    "vcpuNum": 8
   },
   {
    "_defaultOrder": 24,
    "_isFastLaunch": false,
    "category": "Compute optimized",
    "gpuNum": 0,
    "hideHardwareSpecs": false,
    "memoryGiB": 32,
    "name": "ml.c5.4xlarge",
    "vcpuNum": 16
   },
   {
    "_defaultOrder": 25,
    "_isFastLaunch": false,
    "category": "Compute optimized",
    "gpuNum": 0,
    "hideHardwareSpecs": false,
    "memoryGiB": 72,
    "name": "ml.c5.9xlarge",
    "vcpuNum": 36
   },
   {
    "_defaultOrder": 26,
    "_isFastLaunch": false,
    "category": "Compute optimized",
    "gpuNum": 0,
    "hideHardwareSpecs": false,
    "memoryGiB": 96,
    "name": "ml.c5.12xlarge",
    "vcpuNum": 48
   },
   {
    "_defaultOrder": 27,
    "_isFastLaunch": false,
    "category": "Compute optimized",
    "gpuNum": 0,
    "hideHardwareSpecs": false,
    "memoryGiB": 144,
    "name": "ml.c5.18xlarge",
    "vcpuNum": 72
   },
   {
    "_defaultOrder": 28,
    "_isFastLaunch": false,
    "category": "Compute optimized",
    "gpuNum": 0,
    "hideHardwareSpecs": false,
    "memoryGiB": 192,
    "name": "ml.c5.24xlarge",
    "vcpuNum": 96
   },
   {
    "_defaultOrder": 29,
    "_isFastLaunch": true,
    "category": "Accelerated computing",
    "gpuNum": 1,
    "hideHardwareSpecs": false,
    "memoryGiB": 16,
    "name": "ml.g4dn.xlarge",
    "vcpuNum": 4
   },
   {
    "_defaultOrder": 30,
    "_isFastLaunch": false,
    "category": "Accelerated computing",
    "gpuNum": 1,
    "hideHardwareSpecs": false,
    "memoryGiB": 32,
    "name": "ml.g4dn.2xlarge",
    "vcpuNum": 8
   },
   {
    "_defaultOrder": 31,
    "_isFastLaunch": false,
    "category": "Accelerated computing",
    "gpuNum": 1,
    "hideHardwareSpecs": false,
    "memoryGiB": 64,
    "name": "ml.g4dn.4xlarge",
    "vcpuNum": 16
   },
   {
    "_defaultOrder": 32,
    "_isFastLaunch": false,
    "category": "Accelerated computing",
    "gpuNum": 1,
    "hideHardwareSpecs": false,
    "memoryGiB": 128,
    "name": "ml.g4dn.8xlarge",
    "vcpuNum": 32
   },
   {
    "_defaultOrder": 33,
    "_isFastLaunch": false,
    "category": "Accelerated computing",
    "gpuNum": 4,
    "hideHardwareSpecs": false,
    "memoryGiB": 192,
    "name": "ml.g4dn.12xlarge",
    "vcpuNum": 48
   },
   {
    "_defaultOrder": 34,
    "_isFastLaunch": false,
    "category": "Accelerated computing",
    "gpuNum": 1,
    "hideHardwareSpecs": false,
    "memoryGiB": 256,
    "name": "ml.g4dn.16xlarge",
    "vcpuNum": 64
   },
   {
    "_defaultOrder": 35,
    "_isFastLaunch": false,
    "category": "Accelerated computing",
    "gpuNum": 1,
    "hideHardwareSpecs": false,
    "memoryGiB": 61,
    "name": "ml.p3.2xlarge",
    "vcpuNum": 8
   },
   {
    "_defaultOrder": 36,
    "_isFastLaunch": false,
    "category": "Accelerated computing",
    "gpuNum": 4,
    "hideHardwareSpecs": false,
    "memoryGiB": 244,
    "name": "ml.p3.8xlarge",
    "vcpuNum": 32
   },
   {
    "_defaultOrder": 37,
    "_isFastLaunch": false,
    "category": "Accelerated computing",
    "gpuNum": 8,
    "hideHardwareSpecs": false,
    "memoryGiB": 488,
    "name": "ml.p3.16xlarge",
    "vcpuNum": 64
   },
   {
    "_defaultOrder": 38,
    "_isFastLaunch": false,
    "category": "Accelerated computing",
    "gpuNum": 8,
    "hideHardwareSpecs": false,
    "memoryGiB": 768,
    "name": "ml.p3dn.24xlarge",
    "vcpuNum": 96
   },
   {
    "_defaultOrder": 39,
    "_isFastLaunch": false,
    "category": "Memory Optimized",
    "gpuNum": 0,
    "hideHardwareSpecs": false,
    "memoryGiB": 16,
    "name": "ml.r5.large",
    "vcpuNum": 2
   },
   {
    "_defaultOrder": 40,
    "_isFastLaunch": false,
    "category": "Memory Optimized",
    "gpuNum": 0,
    "hideHardwareSpecs": false,
    "memoryGiB": 32,
    "name": "ml.r5.xlarge",
    "vcpuNum": 4
   },
   {
    "_defaultOrder": 41,
    "_isFastLaunch": false,
    "category": "Memory Optimized",
    "gpuNum": 0,
    "hideHardwareSpecs": false,
    "memoryGiB": 64,
    "name": "ml.r5.2xlarge",
    "vcpuNum": 8
   },
   {
    "_defaultOrder": 42,
    "_isFastLaunch": false,
    "category": "Memory Optimized",
    "gpuNum": 0,
    "hideHardwareSpecs": false,
    "memoryGiB": 128,
    "name": "ml.r5.4xlarge",
    "vcpuNum": 16
   },
   {
    "_defaultOrder": 43,
    "_isFastLaunch": false,
    "category": "Memory Optimized",
    "gpuNum": 0,
    "hideHardwareSpecs": false,
    "memoryGiB": 256,
    "name": "ml.r5.8xlarge",
    "vcpuNum": 32
   },
   {
    "_defaultOrder": 44,
    "_isFastLaunch": false,
    "category": "Memory Optimized",
    "gpuNum": 0,
    "hideHardwareSpecs": false,
    "memoryGiB": 384,
    "name": "ml.r5.12xlarge",
    "vcpuNum": 48
   },
   {
    "_defaultOrder": 45,
    "_isFastLaunch": false,
    "category": "Memory Optimized",
    "gpuNum": 0,
    "hideHardwareSpecs": false,
    "memoryGiB": 512,
    "name": "ml.r5.16xlarge",
    "vcpuNum": 64
   },
   {
    "_defaultOrder": 46,
    "_isFastLaunch": false,
    "category": "Memory Optimized",
    "gpuNum": 0,
    "hideHardwareSpecs": false,
    "memoryGiB": 768,
    "name": "ml.r5.24xlarge",
    "vcpuNum": 96
   },
   {
    "_defaultOrder": 47,
    "_isFastLaunch": false,
    "category": "Accelerated computing",
    "gpuNum": 1,
    "hideHardwareSpecs": false,
    "memoryGiB": 16,
    "name": "ml.g5.xlarge",
    "vcpuNum": 4
   },
   {
    "_defaultOrder": 48,
    "_isFastLaunch": false,
    "category": "Accelerated computing",
    "gpuNum": 1,
    "hideHardwareSpecs": false,
    "memoryGiB": 32,
    "name": "ml.g5.2xlarge",
    "vcpuNum": 8
   },
   {
    "_defaultOrder": 49,
    "_isFastLaunch": false,
    "category": "Accelerated computing",
    "gpuNum": 1,
    "hideHardwareSpecs": false,
    "memoryGiB": 64,
    "name": "ml.g5.4xlarge",
    "vcpuNum": 16
   },
   {
    "_defaultOrder": 50,
    "_isFastLaunch": false,
    "category": "Accelerated computing",
    "gpuNum": 1,
    "hideHardwareSpecs": false,
    "memoryGiB": 128,
    "name": "ml.g5.8xlarge",
    "vcpuNum": 32
   },
   {
    "_defaultOrder": 51,
    "_isFastLaunch": false,
    "category": "Accelerated computing",
    "gpuNum": 1,
    "hideHardwareSpecs": false,
    "memoryGiB": 256,
    "name": "ml.g5.16xlarge",
    "vcpuNum": 64
   },
   {
    "_defaultOrder": 52,
    "_isFastLaunch": false,
    "category": "Accelerated computing",
    "gpuNum": 4,
    "hideHardwareSpecs": false,
    "memoryGiB": 192,
    "name": "ml.g5.12xlarge",
    "vcpuNum": 48
   },
   {
    "_defaultOrder": 53,
    "_isFastLaunch": false,
    "category": "Accelerated computing",
    "gpuNum": 4,
    "hideHardwareSpecs": false,
    "memoryGiB": 384,
    "name": "ml.g5.24xlarge",
    "vcpuNum": 96
   },
   {
    "_defaultOrder": 54,
    "_isFastLaunch": false,
    "category": "Accelerated computing",
    "gpuNum": 8,
    "hideHardwareSpecs": false,
    "memoryGiB": 768,
    "name": "ml.g5.48xlarge",
    "vcpuNum": 192
   },
   {
    "_defaultOrder": 55,
    "_isFastLaunch": false,
    "category": "Accelerated computing",
    "gpuNum": 8,
    "hideHardwareSpecs": false,
    "memoryGiB": 1152,
    "name": "ml.p4d.24xlarge",
    "vcpuNum": 96
   },
   {
    "_defaultOrder": 56,
    "_isFastLaunch": false,
    "category": "Accelerated computing",
    "gpuNum": 8,
    "hideHardwareSpecs": false,
    "memoryGiB": 1152,
    "name": "ml.p4de.24xlarge",
    "vcpuNum": 96
   }
  ],
  "instance_type": "ml.t3.medium",
  "kernelspec": {
   "display_name": "Python 3",
   "language": "python",
   "name": "python3"
  },
  "language_info": {
   "codemirror_mode": {
    "name": "ipython",
    "version": 3
   },
   "file_extension": ".py",
   "mimetype": "text/x-python",
   "name": "python",
   "nbconvert_exporter": "python",
   "pygments_lexer": "ipython3",
   "version": "3.10.11"
  }
 },
 "nbformat": 4,
 "nbformat_minor": 5
}
